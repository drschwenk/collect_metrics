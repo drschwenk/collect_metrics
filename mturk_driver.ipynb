{
 "cells": [
  {
   "cell_type": "markdown",
   "metadata": {
    "heading_collapsed": true
   },
   "source": [
    "# Table of Contents\n",
    "* &nbsp;\n",
    "\t* [0.1 imports](#0.1-imports)\n",
    "\t* [0.2 data](#0.2-data)\n",
    "* [1. Submitting HITs- metric collection](#1.-Submitting-HITs--metric-collection)\n",
    "* [2. Retreive results](#2.-Retreive-results)\n",
    "\t* [2.1 consensus building](#2.1-consensus-building)\n",
    "\t\t* [2.1.1 code](#2.1.1-code)\n",
    "\t\t* [2.1.2 run](#2.1.2-run)\n",
    "\t* [2.2 recall](#2.2-recall)\n",
    "\t\t* [2.2.1 code](#2.2.1-code)\n",
    "\t\t* [2.2.2 run](#2.2.2-run)\n",
    "\t* [2.3 sanity check](#2.3-sanity-check)\n",
    "\t* [2.4 check results](#2.4-check-results)\n",
    "* [3. Hide](#3.-Hide)\n"
   ]
  },
  {
   "cell_type": "markdown",
   "metadata": {
    "heading_collapsed": true,
    "hidden": true
   },
   "source": [
    "## 0.1 imports"
   ]
  },
  {
   "cell_type": "code",
   "execution_count": 24,
   "metadata": {
    "hidden": true,
    "run_control": {
     "frozen": false,
     "read_only": false
    }
   },
   "outputs": [],
   "source": [
    "%%capture\n",
    "from __future__ import division\n",
    "import numpy as np\n",
    "import pandas as pd\n",
    "import scipy.stats as st\n",
    "import itertools\n",
    "from tqdm import tqdm as tqdm\n",
    "from collections import defaultdict\n",
    "from collections import Counter\n",
    "\n",
    "import xmltodict\n",
    "\n",
    "\n",
    "import pickle\n",
    "import boto3\n",
    "import json\n",
    "import os\n",
    "from copy import deepcopy\n",
    "\n",
    "from IPython.core.display import HTML\n",
    "\n",
    "from keysTkingdom import mturk_ai2\n",
    "\n",
    "from mturk.mturk import MTurk\n",
    "\n",
    "import os\n",
    "import random\n",
    "import datetime\n",
    "\n",
    "%load_ext autoreload\n",
    "%autoreload 2"
   ]
  },
  {
   "cell_type": "code",
   "execution_count": 25,
   "metadata": {
    "hidden": true,
    "run_control": {
     "frozen": false,
     "read_only": false
    }
   },
   "outputs": [],
   "source": [
    "%%capture\n",
    "import matplotlib as mpl\n",
    "mpl.use(\"Agg\")\n",
    "import matplotlib.pylab as plt\n",
    "#%matplotlib notebook\n",
    "%matplotlib inline\n",
    "%load_ext base16_mplrc\n",
    "%base16_mplrc light solarized\n",
    "#%base16_mplrc dark solarized\n",
    "plt.rcParams['grid.linewidth'] = 0\n",
    "plt.rcParams['figure.figsize'] = (16.0, 10.0)"
   ]
  },
  {
   "cell_type": "markdown",
   "metadata": {
    "heading_collapsed": true,
    "hidden": true
   },
   "source": [
    "## 0.2 data"
   ]
  },
  {
   "cell_type": "code",
   "execution_count": 26,
   "metadata": {
    "hidden": true,
    "run_control": {
     "frozen": false,
     "read_only": false
    }
   },
   "outputs": [],
   "source": [
    "with open('./data/complete_dataset_3_3.pkl', 'rb') as f:\n",
    "    complete_ds = pickle.load(f)\n",
    "\n",
    "missing_pos = [v.gid() for v in complete_ds.data if 'pos_tags' not in  v.data()['parse']]\n",
    "\n",
    "complete_ds.remove_vids(missing_pos)\n",
    "\n",
    "with open('./easy_split_ids.json') as f:\n",
    "    split_ids = json.load(f)\n",
    "\n",
    "with open('./easy_split_len_hist.json') as f:\n",
    "    easy_split_ids = json.load(f)\n",
    "\n",
    "easy_split_ids.keys()\n",
    "\n",
    "easy_val_sm = split_ids['easy_val_sm']\n",
    "easy_val_lg = split_ids['easy_val_lg']\n",
    "\n",
    "easy_val_lg_sep = [v for v in easy_val_lg if v not in easy_val_sm]"
   ]
  },
  {
   "cell_type": "code",
   "execution_count": 27,
   "metadata": {
    "hidden": true,
    "run_control": {
     "frozen": false,
     "read_only": false
    }
   },
   "outputs": [
    {
     "data": {
      "text/plain": [
       "24"
      ]
     },
     "execution_count": 27,
     "metadata": {},
     "output_type": "execute_result"
    }
   ],
   "source": [
    "len(set(easy_val_lg).intersection(easy_val_sm))"
   ]
  },
  {
   "cell_type": "code",
   "execution_count": 63,
   "metadata": {
    "hidden": true,
    "run_control": {
     "frozen": false,
     "read_only": false
    }
   },
   "outputs": [],
   "source": [
    "data_path  = './gen_data/vis_query_val_db_train_stage1_16000_stage2_28000/'\n",
    "gif_path = './gen_data/new_gifs/'\n",
    "for f in os.listdir(data_path):\n",
    "    if f.split('.')[0] in easy_val_sm:\n",
    "        try:\n",
    "            os.link(data_path + f, gif_path + f)\n",
    "        except FileExistsError:\n",
    "            pass"
   ]
  },
  {
   "cell_type": "code",
   "execution_count": 8,
   "metadata": {
    "hidden": true,
    "run_control": {
     "frozen": false,
     "read_only": false
    }
   },
   "outputs": [
    {
     "data": {
      "text/plain": [
       "'Barney is in a room speaking to someone and pointing .'"
      ]
     },
     "execution_count": 8,
     "metadata": {},
     "output_type": "execute_result"
    }
   ],
   "source": [
    "test_vid = random.choice(easy_val_lg)\n",
    "vid = complete_ds.get_video(test_vid)\n",
    "vid.description()"
   ]
  },
  {
   "cell_type": "code",
   "execution_count": 28,
   "metadata": {
    "hidden": true,
    "run_control": {
     "frozen": false,
     "read_only": false
    }
   },
   "outputs": [],
   "source": [
    "descs_sm = [complete_ds.get_video(v).description() for v in easy_val_sm if complete_ds.get_video(v)]"
   ]
  },
  {
   "cell_type": "code",
   "execution_count": 29,
   "metadata": {
    "hidden": true,
    "run_control": {
     "frozen": false,
     "read_only": false
    }
   },
   "outputs": [],
   "source": [
    "descs_lg = [complete_ds.get_video(v).description() for v in easy_val_lg_sep if complete_ds.get_video(v)]"
   ]
  },
  {
   "cell_type": "code",
   "execution_count": 31,
   "metadata": {
    "hidden": true,
    "run_control": {
     "frozen": false,
     "read_only": false
    }
   },
   "outputs": [],
   "source": [
    "descs_lens_sm = [len(d.split()) for d in descs_sm]\n",
    "descs_lens_lg = [len(d.split()) for d in descs_lg]"
   ]
  },
  {
   "cell_type": "code",
   "execution_count": 64,
   "metadata": {
    "hidden": true
   },
   "outputs": [],
   "source": [
    "# _ = pd.Series(descs_lens_sm).hist()"
   ]
  },
  {
   "cell_type": "code",
   "execution_count": 40,
   "metadata": {
    "hidden": true
   },
   "outputs": [
    {
     "data": {
      "text/plain": [
       "225"
      ]
     },
     "execution_count": 40,
     "metadata": {},
     "output_type": "execute_result"
    }
   ],
   "source": [
    "len(descs_lens_lg)"
   ]
  },
  {
   "cell_type": "code",
   "execution_count": 12,
   "metadata": {
    "hidden": true,
    "run_control": {
     "frozen": false,
     "read_only": false
    }
   },
   "outputs": [],
   "source": [
    "# vid.display_gif()"
   ]
  },
  {
   "cell_type": "code",
   "execution_count": 15,
   "metadata": {
    "hidden": true,
    "run_control": {
     "frozen": false,
     "read_only": false
    }
   },
   "outputs": [],
   "source": [
    "# Image(filename=gif_path + test_vid + '.mp4.gif')"
   ]
  },
  {
   "cell_type": "markdown",
   "metadata": {
    "heading_collapsed": true,
    "run_control": {
     "frozen": false,
     "read_only": false
    }
   },
   "source": [
    "# 1. Submitting HITs- metric collection"
   ]
  },
  {
   "cell_type": "code",
   "execution_count": 23,
   "metadata": {
    "hidden": true,
    "run_control": {
     "frozen": false,
     "read_only": false
    }
   },
   "outputs": [],
   "source": [
    "cat_headers = {\n",
    "    'entities': 'Are any of the following people/places/things missing from the video?',\n",
    "    'verbs': 'Do all of the actions highlighted in yellow take place in the video, and are the adjectives true?'\n",
    "}\n",
    "\n",
    "verb_blacklist = set(['is', 'are', 'was'])\n",
    "\n",
    "def gen_template_args_from_datapoint(video, s3_base_path):        \n",
    "    description = video.description()\n",
    "    if description[-1] != '.':\n",
    "        description += '.'\n",
    "    description = description.replace('\\'', '')\n",
    "    formatted_description = [[word.encode('utf8').decode() for word in sent.split()] for sent in description.split('.')][:-1]\n",
    "    \n",
    "    vid_ents = [[c.data()['labelNPC']] for c in video.data()['characters'] + video.data()['objects']] + [[video.setting()]]\n",
    "    vid_verbs = [word[0] for word in video.data()['parse']['pos_tags'] if word[1] in ['VBG', 'VBZ', 'VBP', 'JJ'] and word[0] not in verb_blacklist]\n",
    "    vid_verbs.append('blue')\n",
    "    ent_button_js = form_button_arr_js(vid_ents, [v[0] for v in vid_ents], ('entities', cat_headers['entities']))\n",
    "    verb_button_js = form_button_arr_js(formatted_description, vid_verbs, ('verbs', cat_headers['verbs']))\n",
    "    \n",
    "    return {'image_id': video.gid(), 'verb_button_js': verb_button_js, 'ent_button_js': ent_button_js, 's3_base_path': s3_base_path}\n",
    "\n",
    "def form_button_arr_js(buttons, active, category=None):\n",
    "    if not buttons:\n",
    "        return ''\n",
    "    button_arr_js = f\"<br><h4>{category[1]}</h4>\"\n",
    "    for i, sent in enumerate(buttons):\n",
    "        button_arr_js += '<br>\\n'\n",
    "        for j, word in enumerate(sent):\n",
    "            b_id = '_'.join(['_'.join(word.split()), str(i), str(j)])\n",
    "            disabled = '' if word in active else 'disabled=true' \n",
    "            color = '#FFFF4C' if word in active else '' \n",
    "            button_arr_js += f\"<input type='button' onclick=\\\"record_value('{category[0] + '__' + b_id}');\\\" value='{word}' id= '{category[0] + '__' + b_id}' {disabled}  style=background-color:{color} />\"    \n",
    "    button_arr_js += f\"<br><input type='button' onclick=\\\"record_value('{category[0] + '__None'}');\\\" style=background-color:#ff0000 value='None Missing' id='{category[0] + '__None'}' />\"\n",
    "    return button_arr_js"
   ]
  },
  {
   "cell_type": "code",
   "execution_count": 12,
   "metadata": {
    "hidden": true,
    "run_control": {
     "frozen": false,
     "read_only": false
    }
   },
   "outputs": [],
   "source": [
    "pvid = 's_06_e_14_shot_021030_021104'\n",
    "pvid = 's_04_e_08_shot_029353_029427'\n",
    "pvid = 's_04_e_02_shot_011770_011844'\n",
    "sample_vid = 's_06_e_18_shot_006963_007037'\n",
    "prob_video = complete_ds.get_video(sample_vid)"
   ]
  },
  {
   "cell_type": "code",
   "execution_count": 17,
   "metadata": {
    "hidden": true,
    "run_control": {
     "frozen": false,
     "read_only": false
    }
   },
   "outputs": [],
   "source": [
    "mt_client.preview_hit_interface(template_params, **gen_template_args_from_datapoint(prob_video, client_params['s3_base_path']))"
   ]
  },
  {
   "cell_type": "code",
   "execution_count": 387,
   "metadata": {
    "hidden": true,
    "run_control": {
     "frozen": false,
     "read_only": false
    }
   },
   "outputs": [],
   "source": [
    "demo_vid = deepcopy(prob_video)\n",
    "\n",
    "# for char in demo_vid.data()['characters']:\n",
    "#     if char.data()['entityLabel'] == 'barney':\n",
    "#         char.data()['entityLabel'] = 'wilma'\n",
    "# demo_vid.data()['description'] = demo_vid.description().replace('Barney', 'Wilma')\n",
    "\n",
    "demo_vid.data()['setting'] = 'kitchen'\n",
    "# demo_vid.data()['characters'] = complete_ds.get_video('s_01_e_03_shot_023155_023229').data()['characters']\n",
    "# demo_vid.data()['objects'] = complete_ds.get_video('s_01_e_03_shot_023155_023229').data()['objects']\n",
    "# demo_vid.data()['parse'] = complete_ds.get_video('s_01_e_03_shot_023155_023229').data()['parse']\n",
    "\n",
    "# demo_vid.data()['setting'] = complete_ds.get_video('s_01_e_03_shot_023155_023229').setting()\n",
    "demo_vid.data()['description'] = prob_video.description().replace('green', 'blue')"
   ]
  },
  {
   "cell_type": "code",
   "execution_count": 377,
   "metadata": {
    "hidden": true,
    "run_control": {
     "frozen": false,
     "read_only": false
    }
   },
   "outputs": [],
   "source": [
    "# mt_client.preview_hit_interface(template_params, **gen_template_args_from_datapoint(random.choice(complete_ds.data), client_params['s3_base_path']))"
   ]
  },
  {
   "cell_type": "code",
   "execution_count": 632,
   "metadata": {
    "code_folding": [],
    "hidden": true,
    "run_control": {
     "frozen": false,
     "read_only": false
    }
   },
   "outputs": [
    {
     "name": "stdout",
     "output_type": "stream",
     "text": [
      "Account balance is: $44.17\n"
     ]
    }
   ],
   "source": [
    "static_params = {\n",
    "    'Title': \"Identify errors in a short animation\",\n",
    "    'Description': \"You will be shown a short animation clip, and asked to identify anything missing or incorrect in a description of the scene\",\n",
    "    'Keywords': 'animation, clicking, images, answer questions',\n",
    "    'frame_height': 1000,\n",
    "    'Reward': f'{0.02}',\n",
    "    'AssignmentDurationInSeconds': 3600 * 1,\n",
    "    'AutoApprovalDelayInSeconds': 3600 * 24 * 3,\n",
    "    'LifetimeInSeconds': 3600 * 24 * 1,\n",
    "    'MaxAssignments': 3,\n",
    "}\n",
    "\n",
    "template_params = {\n",
    "    'template_file': 'task_template_v3.html', \n",
    "    'template_dir': 'hit_templates'\n",
    "}\n",
    "\n",
    "client_params = {\n",
    "    'aws_access_key_id': mturk_ai2.access_key,\n",
    "    'aws_secret_access_key': mturk_ai2.access_secret_key, \n",
    "    'profile_name': None,\n",
    "    'in_sandbox': False,\n",
    "    'n_threads': 1,\n",
    "    's3_base_path': s3_base_path_gt,\n",
    "}\n",
    "mt_client = MTurk(**client_params)"
   ]
  },
  {
   "cell_type": "code",
   "execution_count": 117,
   "metadata": {
    "hidden": true,
    "run_control": {
     "frozen": false,
     "read_only": false
    }
   },
   "outputs": [],
   "source": [
    "# video_batch_hard = [vid for vid in complete_ds.data if vid.gid() in easy_val_lg and vid.gid() not in easy_val_sm][:50]\n",
    "video_batch = [vid for vid in complete_ds.data if vid.gid() in easy_val_sm]"
   ]
  },
  {
   "cell_type": "code",
   "execution_count": 125,
   "metadata": {
    "hidden": true
   },
   "outputs": [],
   "source": [
    "mt_client.preview_hit_interface(template_params, **gen_template_args_from_datapoint(random.choice(video_batch), client_params['s3_base_path']))"
   ]
  },
  {
   "cell_type": "code",
   "execution_count": 631,
   "metadata": {
    "hidden": true
   },
   "outputs": [],
   "source": [
    "s3_base_path_gt = 'https://s3-us-west-2.amazonaws.com/ai2-vision-animation-gan/annotation_data/scene_gifs/',\n",
    "s3_base_path_gen = 'https://s3-us-west-2.amazonaws.com/ai2-vision-animation-gan/annotation_data/generated_gifs/'"
   ]
  },
  {
   "cell_type": "code",
   "execution_count": 633,
   "metadata": {
    "hidden": true,
    "run_control": {
     "frozen": false,
     "read_only": false
    }
   },
   "outputs": [],
   "source": [
    "static_params['MaxAssignments'] = 3\n",
    "static_params['s3_base_path'] = s3_base_path_gt"
   ]
  },
  {
   "cell_type": "code",
   "execution_count": 127,
   "metadata": {
    "hidden": true,
    "run_control": {
     "frozen": false,
     "read_only": false
    }
   },
   "outputs": [
    {
     "name": "stdout",
     "output_type": "stream",
     "text": [
      "Batch will cost $10.73\n"
     ]
    }
   ],
   "source": [
    "_ = mt_client.expected_cost(video_batch, basic_hit_params=static_params)"
   ]
  },
  {
   "cell_type": "code",
   "execution_count": 128,
   "metadata": {
    "hidden": true,
    "run_control": {
     "frozen": false,
     "read_only": false
    },
    "scrolled": true
   },
   "outputs": [
    {
     "name": "stdout",
     "output_type": "stream",
     "text": [
      "Batch will cost $10.73\n",
      "CPU times: user 1.24 s, sys: 47.9 ms, total: 1.29 s\n",
      "Wall time: 35.2 s\n"
     ]
    }
   ],
   "source": [
    "%%time\n",
    "created_hits = mt_client.create_hit_group(video_batch, gen_template_args_from_datapoint, basic_hit_params=static_params, template_params=template_params)"
   ]
  },
  {
   "cell_type": "code",
   "execution_count": 114,
   "metadata": {
    "hidden": true,
    "run_control": {
     "frozen": false,
     "read_only": false
    }
   },
   "outputs": [],
   "source": [
    "gen_hits = mt_client.unpickle_this('./pickled_res/submitted_batch_100_wed_feb_14_15_08_09_2018.pkl')\n",
    "gen_hits = [h['HIT'] for h in gen_hits if h]\n",
    "\n",
    "gt_hits = mt_client.unpickle_this('./pickled_res/submitted_batch_100_wed_feb_14_15_40_22_2018.pkl')\n",
    "gt_hits = [h['HIT'] for h in gt_hits if h]"
   ]
  },
  {
   "cell_type": "code",
   "execution_count": 104,
   "metadata": {
    "hidden": true,
    "run_control": {
     "frozen": false,
     "read_only": false
    }
   },
   "outputs": [],
   "source": [
    "all_curr_hits = mt_client.get_all_hits()"
   ]
  },
  {
   "cell_type": "code",
   "execution_count": 133,
   "metadata": {
    "hidden": true,
    "run_control": {
     "frozen": false,
     "read_only": false
    }
   },
   "outputs": [
    {
     "name": "stdout",
     "output_type": "stream",
     "text": [
      "CPU times: user 47.3 ms, sys: 8.71 ms, total: 56 ms\n",
      "Wall time: 1.04 s\n"
     ]
    }
   ],
   "source": [
    "%%time\n",
    "mt_client.expire_hits(all_curr_hits)"
   ]
  },
  {
   "cell_type": "code",
   "execution_count": 135,
   "metadata": {
    "hidden": true,
    "run_control": {
     "frozen": false,
     "read_only": false
    }
   },
   "outputs": [
    {
     "name": "stdout",
     "output_type": "stream",
     "text": [
      "CPU times: user 14.6 ms, sys: 1.49 ms, total: 16.1 ms\n",
      "Wall time: 721 ms\n"
     ]
    }
   ],
   "source": [
    "%%time\n",
    "mt_client.delete_hits(all_curr_hits)"
   ]
  },
  {
   "cell_type": "code",
   "execution_count": 77,
   "metadata": {
    "hidden": true,
    "run_control": {
     "frozen": false,
     "read_only": false
    }
   },
   "outputs": [],
   "source": [
    "# mt_client.set_hits_reviewing(all_curr_hits)"
   ]
  },
  {
   "cell_type": "code",
   "execution_count": 120,
   "metadata": {
    "hidden": true,
    "run_control": {
     "frozen": false,
     "read_only": false
    }
   },
   "outputs": [],
   "source": [
    "# mt_client.approve_assignments(assignments)"
   ]
  },
  {
   "cell_type": "code",
   "execution_count": 86,
   "metadata": {
    "hidden": true,
    "run_control": {
     "frozen": false,
     "read_only": false
    },
    "scrolled": true
   },
   "outputs": [],
   "source": [
    "# mt_client.force_delete_hits(all_curr_hits)"
   ]
  },
  {
   "cell_type": "code",
   "execution_count": 1207,
   "metadata": {
    "hidden": true,
    "run_control": {
     "frozen": false,
     "read_only": false
    }
   },
   "outputs": [],
   "source": [
    "# test_vid = random.choice(complete_ds.data)"
   ]
  },
  {
   "cell_type": "code",
   "execution_count": null,
   "metadata": {
    "hidden": true,
    "run_control": {
     "frozen": false,
     "read_only": false
    }
   },
   "outputs": [],
   "source": []
  },
  {
   "cell_type": "code",
   "execution_count": null,
   "metadata": {
    "hidden": true,
    "run_control": {
     "frozen": false,
     "read_only": false
    }
   },
   "outputs": [],
   "source": []
  },
  {
   "cell_type": "code",
   "execution_count": null,
   "metadata": {
    "hidden": true,
    "run_control": {
     "frozen": false,
     "read_only": false
    }
   },
   "outputs": [],
   "source": []
  },
  {
   "cell_type": "code",
   "execution_count": null,
   "metadata": {
    "hidden": true,
    "run_control": {
     "frozen": false,
     "read_only": false
    }
   },
   "outputs": [],
   "source": []
  },
  {
   "cell_type": "markdown",
   "metadata": {},
   "source": [
    "# 2. Retreive results"
   ]
  },
  {
   "cell_type": "markdown",
   "metadata": {},
   "source": [
    "## 2.1 consensus building"
   ]
  },
  {
   "cell_type": "markdown",
   "metadata": {
    "heading_collapsed": true
   },
   "source": [
    "### 2.1.1 code"
   ]
  },
  {
   "cell_type": "code",
   "execution_count": 31,
   "metadata": {
    "hidden": true,
    "run_control": {
     "frozen": false,
     "read_only": false
    }
   },
   "outputs": [],
   "source": [
    "def process_results(results):\n",
    "    processed = {}\n",
    "    for gid, responses in results.items():\n",
    "        category_resp = defaultdict(list)\n",
    "        for resp in responses:\n",
    "            for word in resp:\n",
    "                category, val = word.split('__')\n",
    "                category_resp[category].append(val)\n",
    "        processed[gid] = dict(category_resp)\n",
    "    return processed\n",
    "\n",
    "def create_res_dfs(processed_results):\n",
    "    ref_res = process_results(processed_results)\n",
    "    res_df = pd.DataFrame(ref_res).T.fillna('None')\n",
    "    no_issues = res_df[res_df['entities'].apply(lambda x: x[0] == 'None') & res_df['verbs'].apply(lambda x: x[0] in ['None', 'N'])]\n",
    "    issues = res_df[~res_df.index.isin(no_issues.index)]\n",
    "    ent_issues = issues[~issues['entities'].apply(lambda x: x[0] in ['None', 'N'])]\n",
    "    verb_issues = issues[~issues['verbs'].apply(lambda x: x[0] in ['None', 'N'])]\n",
    "    both_issues = res_df[~res_df.index.isin(no_issues.index.tolist() + ent_issues.index.tolist() + verb_issues.index.tolist())]\n",
    "    return no_issues, ent_issues, verb_issues, both_issues\n",
    "\n",
    "def create_res_row(gid, hit_res):\n",
    "    resp_rows = []\n",
    "    for resp in hit_res:\n",
    "        words_by_cat = defaultdict(list)\n",
    "        for word in resp:\n",
    "            cat, w = word.split('__')\n",
    "            words_by_cat[cat].append(w)\n",
    "        words_by_cat = dict(words_by_cat)\n",
    "        words_by_cat['gid'] = gid\n",
    "        resp_rows.append(words_by_cat)\n",
    "    return resp_rows\n",
    "\n",
    "def make_cons_df(hit_res):\n",
    "    results_df = pd.DataFrame.from_records([r for res in hit_res.items() for r in create_res_row(*res)])\n",
    "    results_df = results_df[['gid', 'entities', 'verbs']]\n",
    "    results_df = results_df.fillna('None')\n",
    "    results_df['ent_set'] = results_df['entities'].apply(lambda x: set(x))\n",
    "    results_df['verb_set'] = results_df['verbs'].apply(lambda x: set(x))\n",
    "    grouped_by_vid = results_df.groupby('gid')\n",
    "    agged_on_mode = grouped_by_vid.agg(lambda x: st.mode(x))\n",
    "    agged_on_mode['mode_count_ents'] = agged_on_mode['ent_set'].apply(lambda x: x[1][0])\n",
    "    agged_on_mode['mode_count_verbs'] = agged_on_mode['ent_set'].apply(lambda x: x[1][0])\n",
    "    cons_df = agged_on_mode[agged_on_mode['mode_count_ents'].isin([2, 3])]\n",
    "    cons_df = cons_df[cons_df['mode_count_verbs'].isin([2, 3])]\n",
    "    cons_df['ent_con_res'] = cons_df['ent_set'].apply(lambda x: list(x[0][0]))\n",
    "    cons_df['verb_con_res'] = cons_df['verb_set'].apply(lambda x: list(x[0][0]))\n",
    "    cons_df_no_errors = cons_df[(cons_df['ent_con_res'].apply(lambda x: x[0]) == 'None') & (cons_df['verb_con_res'].apply(lambda x: x[0]) == 'None')]\n",
    "    return cons_df, results_df"
   ]
  },
  {
   "cell_type": "markdown",
   "metadata": {},
   "source": [
    "### 2.1.2 run"
   ]
  },
  {
   "cell_type": "code",
   "execution_count": 129,
   "metadata": {},
   "outputs": [],
   "source": [
    "gen_hits = mt_client.unpickle_this('./gen_submitted_batch_149_mon_feb_19_15_50_42_2018.pkl')\n",
    "gen_hits = [h['HIT'] for h in gen_hits if h]\n",
    "\n",
    "gt_hits = mt_client.unpickle_this('./gt_submitted_batch_149_mon_feb_19_15_52_08_2018.pkl')\n",
    "gt_hits = [h['HIT'] for h in gt_hits if h]"
   ]
  },
  {
   "cell_type": "code",
   "execution_count": 130,
   "metadata": {
    "run_control": {
     "frozen": false,
     "read_only": false
    }
   },
   "outputs": [],
   "source": [
    "latest_gen_res = mt_client.get_and_extract_results(gen_hits)\n",
    "latest_gt_res = mt_client.get_and_extract_results(gt_hits)"
   ]
  },
  {
   "cell_type": "code",
   "execution_count": 658,
   "metadata": {},
   "outputs": [],
   "source": [
    "%%capture\n",
    "gt_cons_df, gt_results_df =  make_cons_df(latest_gt_res)\n",
    "gt_cons_fract = gt_cons_df.shape[0] /(gt_results_df.shape[0] / 3)\n",
    "\n",
    "gen_cons_df, gen_results_df =  make_cons_df(latest_gen_res)\n",
    "gen_cons_fract = gen_cons_df.shape[0] /(gen_results_df.shape[0] / 3)"
   ]
  },
  {
   "cell_type": "code",
   "execution_count": 661,
   "metadata": {},
   "outputs": [
    {
     "name": "stdout",
     "output_type": "stream",
     "text": [
      "0.980\n",
      "0.859\n"
     ]
    }
   ],
   "source": [
    "print('{0:.3f}'.format(gt_cons_fract))\n",
    "print('{0:.3f}'.format(gen_cons_fract))"
   ]
  },
  {
   "cell_type": "code",
   "execution_count": 663,
   "metadata": {},
   "outputs": [
    {
     "data": {
      "text/html": [
       "<div>\n",
       "<style scoped>\n",
       "    .dataframe tbody tr th:only-of-type {\n",
       "        vertical-align: middle;\n",
       "    }\n",
       "\n",
       "    .dataframe tbody tr th {\n",
       "        vertical-align: top;\n",
       "    }\n",
       "\n",
       "    .dataframe thead th {\n",
       "        text-align: right;\n",
       "    }\n",
       "</style>\n",
       "<table border=\"1\" class=\"dataframe\">\n",
       "  <thead>\n",
       "    <tr style=\"text-align: right;\">\n",
       "      <th></th>\n",
       "      <th>gid</th>\n",
       "      <th>entities</th>\n",
       "      <th>verbs</th>\n",
       "      <th>ent_set</th>\n",
       "      <th>verb_set</th>\n",
       "    </tr>\n",
       "  </thead>\n",
       "  <tbody>\n",
       "    <tr>\n",
       "      <th>0</th>\n",
       "      <td>s_06_e_21_shot_041138_041212</td>\n",
       "      <td>[None]</td>\n",
       "      <td>[talking_0_2, drives_0_10, little_0_5, green_0_6]</td>\n",
       "      <td>{None}</td>\n",
       "      <td>{green_0_6, little_0_5, talking_0_2, drives_0_10}</td>\n",
       "    </tr>\n",
       "    <tr>\n",
       "      <th>1</th>\n",
       "      <td>s_06_e_21_shot_041138_041212</td>\n",
       "      <td>[None]</td>\n",
       "      <td>[None]</td>\n",
       "      <td>{None}</td>\n",
       "      <td>{None}</td>\n",
       "    </tr>\n",
       "    <tr>\n",
       "      <th>2</th>\n",
       "      <td>s_06_e_21_shot_041138_041212</td>\n",
       "      <td>[None]</td>\n",
       "      <td>[None]</td>\n",
       "      <td>{None}</td>\n",
       "      <td>{None}</td>\n",
       "    </tr>\n",
       "    <tr>\n",
       "      <th>3</th>\n",
       "      <td>s_03_e_23_shot_014773_014847</td>\n",
       "      <td>[kitchen_4_0]</td>\n",
       "      <td>[heating_1_3]</td>\n",
       "      <td>{kitchen_4_0}</td>\n",
       "      <td>{heating_1_3}</td>\n",
       "    </tr>\n",
       "    <tr>\n",
       "      <th>4</th>\n",
       "      <td>s_03_e_23_shot_014773_014847</td>\n",
       "      <td>[kitchen_4_0]</td>\n",
       "      <td>[heating_1_3]</td>\n",
       "      <td>{kitchen_4_0}</td>\n",
       "      <td>{heating_1_3}</td>\n",
       "    </tr>\n",
       "    <tr>\n",
       "      <th>5</th>\n",
       "      <td>s_03_e_23_shot_014773_014847</td>\n",
       "      <td>[None]</td>\n",
       "      <td>[None]</td>\n",
       "      <td>{None}</td>\n",
       "      <td>{None}</td>\n",
       "    </tr>\n",
       "    <tr>\n",
       "      <th>6</th>\n",
       "      <td>s_01_e_25_shot_034943_035017</td>\n",
       "      <td>[None]</td>\n",
       "      <td>[None]</td>\n",
       "      <td>{None}</td>\n",
       "      <td>{None}</td>\n",
       "    </tr>\n",
       "    <tr>\n",
       "      <th>7</th>\n",
       "      <td>s_01_e_25_shot_034943_035017</td>\n",
       "      <td>[None]</td>\n",
       "      <td>[None]</td>\n",
       "      <td>{None}</td>\n",
       "      <td>{None}</td>\n",
       "    </tr>\n",
       "    <tr>\n",
       "      <th>8</th>\n",
       "      <td>s_01_e_25_shot_034943_035017</td>\n",
       "      <td>[None]</td>\n",
       "      <td>None</td>\n",
       "      <td>{None}</td>\n",
       "      <td>{o, e, n, N}</td>\n",
       "    </tr>\n",
       "    <tr>\n",
       "      <th>9</th>\n",
       "      <td>s_06_e_21_shot_020821_020895</td>\n",
       "      <td>[None]</td>\n",
       "      <td>[None]</td>\n",
       "      <td>{None}</td>\n",
       "      <td>{None}</td>\n",
       "    </tr>\n",
       "    <tr>\n",
       "      <th>10</th>\n",
       "      <td>s_06_e_21_shot_020821_020895</td>\n",
       "      <td>[None]</td>\n",
       "      <td>[None]</td>\n",
       "      <td>{None}</td>\n",
       "      <td>{None}</td>\n",
       "    </tr>\n",
       "    <tr>\n",
       "      <th>11</th>\n",
       "      <td>s_06_e_21_shot_020821_020895</td>\n",
       "      <td>[None]</td>\n",
       "      <td>[None]</td>\n",
       "      <td>{None}</td>\n",
       "      <td>{None}</td>\n",
       "    </tr>\n",
       "    <tr>\n",
       "      <th>12</th>\n",
       "      <td>s_04_e_24_shot_021296_021370</td>\n",
       "      <td>[None]</td>\n",
       "      <td>[None]</td>\n",
       "      <td>{None}</td>\n",
       "      <td>{None}</td>\n",
       "    </tr>\n",
       "    <tr>\n",
       "      <th>13</th>\n",
       "      <td>s_04_e_24_shot_021296_021370</td>\n",
       "      <td>[None]</td>\n",
       "      <td>[None]</td>\n",
       "      <td>{None}</td>\n",
       "      <td>{None}</td>\n",
       "    </tr>\n",
       "    <tr>\n",
       "      <th>14</th>\n",
       "      <td>s_04_e_24_shot_021296_021370</td>\n",
       "      <td>[None]</td>\n",
       "      <td>[None]</td>\n",
       "      <td>{None}</td>\n",
       "      <td>{None}</td>\n",
       "    </tr>\n",
       "    <tr>\n",
       "      <th>15</th>\n",
       "      <td>s_06_e_21_shot_017638_017712</td>\n",
       "      <td>[baby_puss_1_0]</td>\n",
       "      <td>[None]</td>\n",
       "      <td>{baby_puss_1_0}</td>\n",
       "      <td>{None}</td>\n",
       "    </tr>\n",
       "    <tr>\n",
       "      <th>16</th>\n",
       "      <td>s_06_e_21_shot_017638_017712</td>\n",
       "      <td>[baby_puss_1_0]</td>\n",
       "      <td>None</td>\n",
       "      <td>{baby_puss_1_0}</td>\n",
       "      <td>{o, e, n, N}</td>\n",
       "    </tr>\n",
       "    <tr>\n",
       "      <th>17</th>\n",
       "      <td>s_06_e_21_shot_017638_017712</td>\n",
       "      <td>[baby_puss_1_0, room_2_0]</td>\n",
       "      <td>[None]</td>\n",
       "      <td>{room_2_0, baby_puss_1_0}</td>\n",
       "      <td>{None}</td>\n",
       "    </tr>\n",
       "    <tr>\n",
       "      <th>18</th>\n",
       "      <td>s_04_e_24_shot_015169_015243</td>\n",
       "      <td>[None]</td>\n",
       "      <td>[None]</td>\n",
       "      <td>{None}</td>\n",
       "      <td>{None}</td>\n",
       "    </tr>\n",
       "    <tr>\n",
       "      <th>19</th>\n",
       "      <td>s_04_e_24_shot_015169_015243</td>\n",
       "      <td>[None]</td>\n",
       "      <td>[None]</td>\n",
       "      <td>{None}</td>\n",
       "      <td>{None}</td>\n",
       "    </tr>\n",
       "    <tr>\n",
       "      <th>20</th>\n",
       "      <td>s_04_e_24_shot_015169_015243</td>\n",
       "      <td>[None]</td>\n",
       "      <td>[walks_1_6]</td>\n",
       "      <td>{None}</td>\n",
       "      <td>{walks_1_6}</td>\n",
       "    </tr>\n",
       "    <tr>\n",
       "      <th>21</th>\n",
       "      <td>s_02_e_29_shot_008688_008762</td>\n",
       "      <td>[None]</td>\n",
       "      <td>[None]</td>\n",
       "      <td>{None}</td>\n",
       "      <td>{None}</td>\n",
       "    </tr>\n",
       "    <tr>\n",
       "      <th>22</th>\n",
       "      <td>s_02_e_29_shot_008688_008762</td>\n",
       "      <td>[None]</td>\n",
       "      <td>[None]</td>\n",
       "      <td>{None}</td>\n",
       "      <td>{None}</td>\n",
       "    </tr>\n",
       "    <tr>\n",
       "      <th>23</th>\n",
       "      <td>s_02_e_29_shot_008688_008762</td>\n",
       "      <td>[None]</td>\n",
       "      <td>[None]</td>\n",
       "      <td>{None}</td>\n",
       "      <td>{None}</td>\n",
       "    </tr>\n",
       "    <tr>\n",
       "      <th>24</th>\n",
       "      <td>s_06_e_22_shot_033737_033811</td>\n",
       "      <td>[None]</td>\n",
       "      <td>[None]</td>\n",
       "      <td>{None}</td>\n",
       "      <td>{None}</td>\n",
       "    </tr>\n",
       "    <tr>\n",
       "      <th>25</th>\n",
       "      <td>s_06_e_22_shot_033737_033811</td>\n",
       "      <td>[None]</td>\n",
       "      <td>[None]</td>\n",
       "      <td>{None}</td>\n",
       "      <td>{None}</td>\n",
       "    </tr>\n",
       "    <tr>\n",
       "      <th>26</th>\n",
       "      <td>s_06_e_22_shot_033737_033811</td>\n",
       "      <td>[None]</td>\n",
       "      <td>[None]</td>\n",
       "      <td>{None}</td>\n",
       "      <td>{None}</td>\n",
       "    </tr>\n",
       "    <tr>\n",
       "      <th>27</th>\n",
       "      <td>s_03_e_24_shot_018498_018572</td>\n",
       "      <td>[None]</td>\n",
       "      <td>[None]</td>\n",
       "      <td>{None}</td>\n",
       "      <td>{None}</td>\n",
       "    </tr>\n",
       "    <tr>\n",
       "      <th>28</th>\n",
       "      <td>s_03_e_24_shot_018498_018572</td>\n",
       "      <td>[None]</td>\n",
       "      <td>[None]</td>\n",
       "      <td>{None}</td>\n",
       "      <td>{None}</td>\n",
       "    </tr>\n",
       "    <tr>\n",
       "      <th>29</th>\n",
       "      <td>s_03_e_24_shot_018498_018572</td>\n",
       "      <td>[None]</td>\n",
       "      <td>[None]</td>\n",
       "      <td>{None}</td>\n",
       "      <td>{None}</td>\n",
       "    </tr>\n",
       "    <tr>\n",
       "      <th>...</th>\n",
       "      <td>...</td>\n",
       "      <td>...</td>\n",
       "      <td>...</td>\n",
       "      <td>...</td>\n",
       "      <td>...</td>\n",
       "    </tr>\n",
       "    <tr>\n",
       "      <th>417</th>\n",
       "      <td>s_03_e_24_shot_024893_024967</td>\n",
       "      <td>[None]</td>\n",
       "      <td>[None]</td>\n",
       "      <td>{None}</td>\n",
       "      <td>{None}</td>\n",
       "    </tr>\n",
       "    <tr>\n",
       "      <th>418</th>\n",
       "      <td>s_03_e_24_shot_024893_024967</td>\n",
       "      <td>[None]</td>\n",
       "      <td>[None]</td>\n",
       "      <td>{None}</td>\n",
       "      <td>{None}</td>\n",
       "    </tr>\n",
       "    <tr>\n",
       "      <th>419</th>\n",
       "      <td>s_03_e_24_shot_024893_024967</td>\n",
       "      <td>[None]</td>\n",
       "      <td>[None]</td>\n",
       "      <td>{None}</td>\n",
       "      <td>{None}</td>\n",
       "    </tr>\n",
       "    <tr>\n",
       "      <th>420</th>\n",
       "      <td>s_02_e_27_shot_040018_040092</td>\n",
       "      <td>[None]</td>\n",
       "      <td>[None]</td>\n",
       "      <td>{None}</td>\n",
       "      <td>{None}</td>\n",
       "    </tr>\n",
       "    <tr>\n",
       "      <th>421</th>\n",
       "      <td>s_02_e_27_shot_040018_040092</td>\n",
       "      <td>[None]</td>\n",
       "      <td>[None]</td>\n",
       "      <td>{None}</td>\n",
       "      <td>{None}</td>\n",
       "    </tr>\n",
       "    <tr>\n",
       "      <th>422</th>\n",
       "      <td>s_02_e_27_shot_040018_040092</td>\n",
       "      <td>[None]</td>\n",
       "      <td>[None]</td>\n",
       "      <td>{None}</td>\n",
       "      <td>{None}</td>\n",
       "    </tr>\n",
       "    <tr>\n",
       "      <th>423</th>\n",
       "      <td>s_01_e_25_shot_006897_006971</td>\n",
       "      <td>[None]</td>\n",
       "      <td>[None]</td>\n",
       "      <td>{None}</td>\n",
       "      <td>{None}</td>\n",
       "    </tr>\n",
       "    <tr>\n",
       "      <th>424</th>\n",
       "      <td>s_01_e_25_shot_006897_006971</td>\n",
       "      <td>None</td>\n",
       "      <td>[None]</td>\n",
       "      <td>{o, e, n, N}</td>\n",
       "      <td>{None}</td>\n",
       "    </tr>\n",
       "    <tr>\n",
       "      <th>425</th>\n",
       "      <td>s_01_e_25_shot_006897_006971</td>\n",
       "      <td>[None]</td>\n",
       "      <td>[None]</td>\n",
       "      <td>{None}</td>\n",
       "      <td>{None}</td>\n",
       "    </tr>\n",
       "    <tr>\n",
       "      <th>426</th>\n",
       "      <td>s_02_e_28_shot_008184_008258</td>\n",
       "      <td>[None]</td>\n",
       "      <td>[None]</td>\n",
       "      <td>{None}</td>\n",
       "      <td>{None}</td>\n",
       "    </tr>\n",
       "    <tr>\n",
       "      <th>427</th>\n",
       "      <td>s_02_e_28_shot_008184_008258</td>\n",
       "      <td>[None]</td>\n",
       "      <td>[None]</td>\n",
       "      <td>{None}</td>\n",
       "      <td>{None}</td>\n",
       "    </tr>\n",
       "    <tr>\n",
       "      <th>428</th>\n",
       "      <td>s_02_e_28_shot_008184_008258</td>\n",
       "      <td>[None]</td>\n",
       "      <td>[None]</td>\n",
       "      <td>{None}</td>\n",
       "      <td>{None}</td>\n",
       "    </tr>\n",
       "    <tr>\n",
       "      <th>429</th>\n",
       "      <td>s_03_e_25_shot_019690_019764</td>\n",
       "      <td>[None]</td>\n",
       "      <td>[None]</td>\n",
       "      <td>{None}</td>\n",
       "      <td>{None}</td>\n",
       "    </tr>\n",
       "    <tr>\n",
       "      <th>430</th>\n",
       "      <td>s_03_e_25_shot_019690_019764</td>\n",
       "      <td>[None]</td>\n",
       "      <td>[None]</td>\n",
       "      <td>{None}</td>\n",
       "      <td>{None}</td>\n",
       "    </tr>\n",
       "    <tr>\n",
       "      <th>431</th>\n",
       "      <td>s_03_e_25_shot_019690_019764</td>\n",
       "      <td>[None]</td>\n",
       "      <td>[None]</td>\n",
       "      <td>{None}</td>\n",
       "      <td>{None}</td>\n",
       "    </tr>\n",
       "    <tr>\n",
       "      <th>432</th>\n",
       "      <td>s_03_e_25_shot_017809_017883</td>\n",
       "      <td>[None]</td>\n",
       "      <td>[None]</td>\n",
       "      <td>{None}</td>\n",
       "      <td>{None}</td>\n",
       "    </tr>\n",
       "    <tr>\n",
       "      <th>433</th>\n",
       "      <td>s_03_e_25_shot_017809_017883</td>\n",
       "      <td>[None]</td>\n",
       "      <td>[None]</td>\n",
       "      <td>{None}</td>\n",
       "      <td>{None}</td>\n",
       "    </tr>\n",
       "    <tr>\n",
       "      <th>434</th>\n",
       "      <td>s_03_e_25_shot_017809_017883</td>\n",
       "      <td>[None]</td>\n",
       "      <td>None</td>\n",
       "      <td>{None}</td>\n",
       "      <td>{o, e, n, N}</td>\n",
       "    </tr>\n",
       "    <tr>\n",
       "      <th>435</th>\n",
       "      <td>s_06_e_21_shot_001208_001282</td>\n",
       "      <td>[None]</td>\n",
       "      <td>[None]</td>\n",
       "      <td>{None}</td>\n",
       "      <td>{None}</td>\n",
       "    </tr>\n",
       "    <tr>\n",
       "      <th>436</th>\n",
       "      <td>s_06_e_21_shot_001208_001282</td>\n",
       "      <td>[None]</td>\n",
       "      <td>[None]</td>\n",
       "      <td>{None}</td>\n",
       "      <td>{None}</td>\n",
       "    </tr>\n",
       "    <tr>\n",
       "      <th>437</th>\n",
       "      <td>s_06_e_21_shot_001208_001282</td>\n",
       "      <td>[None]</td>\n",
       "      <td>[None]</td>\n",
       "      <td>{None}</td>\n",
       "      <td>{None}</td>\n",
       "    </tr>\n",
       "    <tr>\n",
       "      <th>438</th>\n",
       "      <td>s_04_e_22_shot_015378_015452</td>\n",
       "      <td>[None]</td>\n",
       "      <td>[None]</td>\n",
       "      <td>{None}</td>\n",
       "      <td>{None}</td>\n",
       "    </tr>\n",
       "    <tr>\n",
       "      <th>439</th>\n",
       "      <td>s_04_e_22_shot_015378_015452</td>\n",
       "      <td>[None]</td>\n",
       "      <td>[None]</td>\n",
       "      <td>{None}</td>\n",
       "      <td>{None}</td>\n",
       "    </tr>\n",
       "    <tr>\n",
       "      <th>440</th>\n",
       "      <td>s_04_e_22_shot_015378_015452</td>\n",
       "      <td>[None]</td>\n",
       "      <td>[None]</td>\n",
       "      <td>{None}</td>\n",
       "      <td>{None}</td>\n",
       "    </tr>\n",
       "    <tr>\n",
       "      <th>441</th>\n",
       "      <td>s_03_e_24_shot_007216_007290</td>\n",
       "      <td>[None]</td>\n",
       "      <td>[None]</td>\n",
       "      <td>{None}</td>\n",
       "      <td>{None}</td>\n",
       "    </tr>\n",
       "    <tr>\n",
       "      <th>442</th>\n",
       "      <td>s_03_e_24_shot_007216_007290</td>\n",
       "      <td>[None]</td>\n",
       "      <td>[None]</td>\n",
       "      <td>{None}</td>\n",
       "      <td>{None}</td>\n",
       "    </tr>\n",
       "    <tr>\n",
       "      <th>443</th>\n",
       "      <td>s_03_e_24_shot_007216_007290</td>\n",
       "      <td>[None]</td>\n",
       "      <td>[None]</td>\n",
       "      <td>{None}</td>\n",
       "      <td>{None}</td>\n",
       "    </tr>\n",
       "    <tr>\n",
       "      <th>444</th>\n",
       "      <td>s_02_e_27_shot_015950_016024</td>\n",
       "      <td>[a_skillet_2_0]</td>\n",
       "      <td>[None]</td>\n",
       "      <td>{a_skillet_2_0}</td>\n",
       "      <td>{None}</td>\n",
       "    </tr>\n",
       "    <tr>\n",
       "      <th>445</th>\n",
       "      <td>s_02_e_27_shot_015950_016024</td>\n",
       "      <td>[None]</td>\n",
       "      <td>None</td>\n",
       "      <td>{None}</td>\n",
       "      <td>{o, e, n, N}</td>\n",
       "    </tr>\n",
       "    <tr>\n",
       "      <th>446</th>\n",
       "      <td>s_02_e_27_shot_015950_016024</td>\n",
       "      <td>[kitchen_3_0]</td>\n",
       "      <td>None</td>\n",
       "      <td>{kitchen_3_0}</td>\n",
       "      <td>{o, e, n, N}</td>\n",
       "    </tr>\n",
       "  </tbody>\n",
       "</table>\n",
       "<p>447 rows × 5 columns</p>\n",
       "</div>"
      ],
      "text/plain": [
       "                              gid                   entities  \\\n",
       "0    s_06_e_21_shot_041138_041212                     [None]   \n",
       "1    s_06_e_21_shot_041138_041212                     [None]   \n",
       "2    s_06_e_21_shot_041138_041212                     [None]   \n",
       "3    s_03_e_23_shot_014773_014847              [kitchen_4_0]   \n",
       "4    s_03_e_23_shot_014773_014847              [kitchen_4_0]   \n",
       "5    s_03_e_23_shot_014773_014847                     [None]   \n",
       "6    s_01_e_25_shot_034943_035017                     [None]   \n",
       "7    s_01_e_25_shot_034943_035017                     [None]   \n",
       "8    s_01_e_25_shot_034943_035017                     [None]   \n",
       "9    s_06_e_21_shot_020821_020895                     [None]   \n",
       "10   s_06_e_21_shot_020821_020895                     [None]   \n",
       "11   s_06_e_21_shot_020821_020895                     [None]   \n",
       "12   s_04_e_24_shot_021296_021370                     [None]   \n",
       "13   s_04_e_24_shot_021296_021370                     [None]   \n",
       "14   s_04_e_24_shot_021296_021370                     [None]   \n",
       "15   s_06_e_21_shot_017638_017712            [baby_puss_1_0]   \n",
       "16   s_06_e_21_shot_017638_017712            [baby_puss_1_0]   \n",
       "17   s_06_e_21_shot_017638_017712  [baby_puss_1_0, room_2_0]   \n",
       "18   s_04_e_24_shot_015169_015243                     [None]   \n",
       "19   s_04_e_24_shot_015169_015243                     [None]   \n",
       "20   s_04_e_24_shot_015169_015243                     [None]   \n",
       "21   s_02_e_29_shot_008688_008762                     [None]   \n",
       "22   s_02_e_29_shot_008688_008762                     [None]   \n",
       "23   s_02_e_29_shot_008688_008762                     [None]   \n",
       "24   s_06_e_22_shot_033737_033811                     [None]   \n",
       "25   s_06_e_22_shot_033737_033811                     [None]   \n",
       "26   s_06_e_22_shot_033737_033811                     [None]   \n",
       "27   s_03_e_24_shot_018498_018572                     [None]   \n",
       "28   s_03_e_24_shot_018498_018572                     [None]   \n",
       "29   s_03_e_24_shot_018498_018572                     [None]   \n",
       "..                            ...                        ...   \n",
       "417  s_03_e_24_shot_024893_024967                     [None]   \n",
       "418  s_03_e_24_shot_024893_024967                     [None]   \n",
       "419  s_03_e_24_shot_024893_024967                     [None]   \n",
       "420  s_02_e_27_shot_040018_040092                     [None]   \n",
       "421  s_02_e_27_shot_040018_040092                     [None]   \n",
       "422  s_02_e_27_shot_040018_040092                     [None]   \n",
       "423  s_01_e_25_shot_006897_006971                     [None]   \n",
       "424  s_01_e_25_shot_006897_006971                       None   \n",
       "425  s_01_e_25_shot_006897_006971                     [None]   \n",
       "426  s_02_e_28_shot_008184_008258                     [None]   \n",
       "427  s_02_e_28_shot_008184_008258                     [None]   \n",
       "428  s_02_e_28_shot_008184_008258                     [None]   \n",
       "429  s_03_e_25_shot_019690_019764                     [None]   \n",
       "430  s_03_e_25_shot_019690_019764                     [None]   \n",
       "431  s_03_e_25_shot_019690_019764                     [None]   \n",
       "432  s_03_e_25_shot_017809_017883                     [None]   \n",
       "433  s_03_e_25_shot_017809_017883                     [None]   \n",
       "434  s_03_e_25_shot_017809_017883                     [None]   \n",
       "435  s_06_e_21_shot_001208_001282                     [None]   \n",
       "436  s_06_e_21_shot_001208_001282                     [None]   \n",
       "437  s_06_e_21_shot_001208_001282                     [None]   \n",
       "438  s_04_e_22_shot_015378_015452                     [None]   \n",
       "439  s_04_e_22_shot_015378_015452                     [None]   \n",
       "440  s_04_e_22_shot_015378_015452                     [None]   \n",
       "441  s_03_e_24_shot_007216_007290                     [None]   \n",
       "442  s_03_e_24_shot_007216_007290                     [None]   \n",
       "443  s_03_e_24_shot_007216_007290                     [None]   \n",
       "444  s_02_e_27_shot_015950_016024            [a_skillet_2_0]   \n",
       "445  s_02_e_27_shot_015950_016024                     [None]   \n",
       "446  s_02_e_27_shot_015950_016024              [kitchen_3_0]   \n",
       "\n",
       "                                                 verbs  \\\n",
       "0    [talking_0_2, drives_0_10, little_0_5, green_0_6]   \n",
       "1                                               [None]   \n",
       "2                                               [None]   \n",
       "3                                        [heating_1_3]   \n",
       "4                                        [heating_1_3]   \n",
       "5                                               [None]   \n",
       "6                                               [None]   \n",
       "7                                               [None]   \n",
       "8                                                 None   \n",
       "9                                               [None]   \n",
       "10                                              [None]   \n",
       "11                                              [None]   \n",
       "12                                              [None]   \n",
       "13                                              [None]   \n",
       "14                                              [None]   \n",
       "15                                              [None]   \n",
       "16                                                None   \n",
       "17                                              [None]   \n",
       "18                                              [None]   \n",
       "19                                              [None]   \n",
       "20                                         [walks_1_6]   \n",
       "21                                              [None]   \n",
       "22                                              [None]   \n",
       "23                                              [None]   \n",
       "24                                              [None]   \n",
       "25                                              [None]   \n",
       "26                                              [None]   \n",
       "27                                              [None]   \n",
       "28                                              [None]   \n",
       "29                                              [None]   \n",
       "..                                                 ...   \n",
       "417                                             [None]   \n",
       "418                                             [None]   \n",
       "419                                             [None]   \n",
       "420                                             [None]   \n",
       "421                                             [None]   \n",
       "422                                             [None]   \n",
       "423                                             [None]   \n",
       "424                                             [None]   \n",
       "425                                             [None]   \n",
       "426                                             [None]   \n",
       "427                                             [None]   \n",
       "428                                             [None]   \n",
       "429                                             [None]   \n",
       "430                                             [None]   \n",
       "431                                             [None]   \n",
       "432                                             [None]   \n",
       "433                                             [None]   \n",
       "434                                               None   \n",
       "435                                             [None]   \n",
       "436                                             [None]   \n",
       "437                                             [None]   \n",
       "438                                             [None]   \n",
       "439                                             [None]   \n",
       "440                                             [None]   \n",
       "441                                             [None]   \n",
       "442                                             [None]   \n",
       "443                                             [None]   \n",
       "444                                             [None]   \n",
       "445                                               None   \n",
       "446                                               None   \n",
       "\n",
       "                       ent_set  \\\n",
       "0                       {None}   \n",
       "1                       {None}   \n",
       "2                       {None}   \n",
       "3                {kitchen_4_0}   \n",
       "4                {kitchen_4_0}   \n",
       "5                       {None}   \n",
       "6                       {None}   \n",
       "7                       {None}   \n",
       "8                       {None}   \n",
       "9                       {None}   \n",
       "10                      {None}   \n",
       "11                      {None}   \n",
       "12                      {None}   \n",
       "13                      {None}   \n",
       "14                      {None}   \n",
       "15             {baby_puss_1_0}   \n",
       "16             {baby_puss_1_0}   \n",
       "17   {room_2_0, baby_puss_1_0}   \n",
       "18                      {None}   \n",
       "19                      {None}   \n",
       "20                      {None}   \n",
       "21                      {None}   \n",
       "22                      {None}   \n",
       "23                      {None}   \n",
       "24                      {None}   \n",
       "25                      {None}   \n",
       "26                      {None}   \n",
       "27                      {None}   \n",
       "28                      {None}   \n",
       "29                      {None}   \n",
       "..                         ...   \n",
       "417                     {None}   \n",
       "418                     {None}   \n",
       "419                     {None}   \n",
       "420                     {None}   \n",
       "421                     {None}   \n",
       "422                     {None}   \n",
       "423                     {None}   \n",
       "424               {o, e, n, N}   \n",
       "425                     {None}   \n",
       "426                     {None}   \n",
       "427                     {None}   \n",
       "428                     {None}   \n",
       "429                     {None}   \n",
       "430                     {None}   \n",
       "431                     {None}   \n",
       "432                     {None}   \n",
       "433                     {None}   \n",
       "434                     {None}   \n",
       "435                     {None}   \n",
       "436                     {None}   \n",
       "437                     {None}   \n",
       "438                     {None}   \n",
       "439                     {None}   \n",
       "440                     {None}   \n",
       "441                     {None}   \n",
       "442                     {None}   \n",
       "443                     {None}   \n",
       "444            {a_skillet_2_0}   \n",
       "445                     {None}   \n",
       "446              {kitchen_3_0}   \n",
       "\n",
       "                                              verb_set  \n",
       "0    {green_0_6, little_0_5, talking_0_2, drives_0_10}  \n",
       "1                                               {None}  \n",
       "2                                               {None}  \n",
       "3                                        {heating_1_3}  \n",
       "4                                        {heating_1_3}  \n",
       "5                                               {None}  \n",
       "6                                               {None}  \n",
       "7                                               {None}  \n",
       "8                                         {o, e, n, N}  \n",
       "9                                               {None}  \n",
       "10                                              {None}  \n",
       "11                                              {None}  \n",
       "12                                              {None}  \n",
       "13                                              {None}  \n",
       "14                                              {None}  \n",
       "15                                              {None}  \n",
       "16                                        {o, e, n, N}  \n",
       "17                                              {None}  \n",
       "18                                              {None}  \n",
       "19                                              {None}  \n",
       "20                                         {walks_1_6}  \n",
       "21                                              {None}  \n",
       "22                                              {None}  \n",
       "23                                              {None}  \n",
       "24                                              {None}  \n",
       "25                                              {None}  \n",
       "26                                              {None}  \n",
       "27                                              {None}  \n",
       "28                                              {None}  \n",
       "29                                              {None}  \n",
       "..                                                 ...  \n",
       "417                                             {None}  \n",
       "418                                             {None}  \n",
       "419                                             {None}  \n",
       "420                                             {None}  \n",
       "421                                             {None}  \n",
       "422                                             {None}  \n",
       "423                                             {None}  \n",
       "424                                             {None}  \n",
       "425                                             {None}  \n",
       "426                                             {None}  \n",
       "427                                             {None}  \n",
       "428                                             {None}  \n",
       "429                                             {None}  \n",
       "430                                             {None}  \n",
       "431                                             {None}  \n",
       "432                                             {None}  \n",
       "433                                             {None}  \n",
       "434                                       {o, e, n, N}  \n",
       "435                                             {None}  \n",
       "436                                             {None}  \n",
       "437                                             {None}  \n",
       "438                                             {None}  \n",
       "439                                             {None}  \n",
       "440                                             {None}  \n",
       "441                                             {None}  \n",
       "442                                             {None}  \n",
       "443                                             {None}  \n",
       "444                                             {None}  \n",
       "445                                       {o, e, n, N}  \n",
       "446                                       {o, e, n, N}  \n",
       "\n",
       "[447 rows x 5 columns]"
      ]
     },
     "execution_count": 663,
     "metadata": {},
     "output_type": "execute_result"
    }
   ],
   "source": [
    "gt_results_df"
   ]
  },
  {
   "cell_type": "markdown",
   "metadata": {},
   "source": [
    "## 2.2 recall"
   ]
  },
  {
   "cell_type": "markdown",
   "metadata": {
    "heading_collapsed": true
   },
   "source": [
    "### 2.2.1 code"
   ]
  },
  {
   "cell_type": "code",
   "execution_count": 541,
   "metadata": {
    "hidden": true
   },
   "outputs": [],
   "source": [
    "def get_word_pos_tag(word, video):\n",
    "    pos_tags = video.data()['parse']['pos_tags']\n",
    "    for sent_word, tag in pos_tags:\n",
    "        if sent_word.lower() == word.lower():\n",
    "            return tag\n",
    "    return ''\n",
    "\n",
    "def possible_per_category(video):\n",
    "    per_category = Counter()\n",
    "    per_category['entities'] =  len(video.data()['characters']) + len(video.data()['objects'])\n",
    "    per_category['verbs'] = len([word[0] for word in video.data()['parse']['pos_tags'] if word[1] in ['VBG', 'VBZ', 'VBP'] and word[0] not in verb_blacklist])\n",
    "    per_category['adjectives'] = len([word[0] for word in video.data()['parse']['pos_tags'] if word[1] in ['JJ'] and word[0]])\n",
    "    return per_category\n",
    "\n",
    "def count_errors(gid, hit_res):\n",
    "    video = complete_ds.get_video(gid)\n",
    "    reponses_by_cat = defaultdict(list)\n",
    "    for resp in hit_res:\n",
    "        for word in resp:\n",
    "            cat, w_span = word.split('__')\n",
    "            if w_span == 'None':\n",
    "                continue\n",
    "            w, start, stop = w_span.rsplit('_', maxsplit=2)\n",
    "            word_pos = get_word_pos_tag(w, video)\n",
    "            if word_pos == 'JJ':\n",
    "                cat = 'adjectives'\n",
    "            reponses_by_cat[cat].append(w)\n",
    "#     print(reponses_by_cat)\n",
    "    response_cat_counts = {k: Counter(v) for k, v in reponses_by_cat.items()}\n",
    "    possible_per_cat = possible_per_category(video)\n",
    "    flaws_by_cat = defaultdict(list)\n",
    "    for cat, counts in response_cat_counts.items():\n",
    "        for word, count in counts.items():\n",
    "            if count > 1 and word != 'None':\n",
    "                flaws_by_cat[cat].append(word)\n",
    "    recall_per_cat = {cat: [len(flaws_by_cat[cat]), possible_per_cat[cat]] for cat in possible_per_cat.keys()}\n",
    "    return gid, recall_per_cat\n",
    "\n",
    "def compute_recall(agg_counts):\n",
    "    mistakes = defaultdict(int)\n",
    "    possible = defaultdict(int)\n",
    "    for gid, vid in agg_counts:\n",
    "        for cat, res in vid.items():\n",
    "            mistakes[cat] += res[0]\n",
    "            possible[cat] += res[1]\n",
    "    recalls = {cat: 1- mistakes[cat] / possible[cat] for cat in mistakes.keys() if possible[cat]}\n",
    "    return recalls\n",
    "\n",
    "def assign_len_bin(gid):\n",
    "    bins = {\n",
    "        'bin_0_10': [0, 10],\n",
    "        'bin_10_20': [10, 20],\n",
    "        'bin_20_20_plus': [20, np.Inf]\n",
    "    }\n",
    "    video = complete_ds.get_video(gid)\n",
    "    desc_len = len(video.description().split())\n",
    "    return [b for b, (lower, upper) in bins.items() if lower < desc_len <= upper].pop()\n",
    "\n",
    "def report_by_bin(count_mistakes):\n",
    "    mistakes_by_bin = defaultdict(list)\n",
    "    for gid, vid in count_mistakes:\n",
    "        mistakes_by_bin[assign_len_bin(gid)].append((gid, vid))\n",
    "\n",
    "    for b, vids in mistakes_by_bin.items():\n",
    "        print(b)\n",
    "        print({k: '{0:.3f}'.format(v) for k, v in compute_recall(vids).items()})\n",
    "        print()\n",
    "    return mistakes_by_bin"
   ]
  },
  {
   "cell_type": "markdown",
   "metadata": {},
   "source": [
    "### 2.2.2 run"
   ]
  },
  {
   "cell_type": "code",
   "execution_count": null,
   "metadata": {},
   "outputs": [],
   "source": [
    "latest_gen_res = mt_client.get_and_extract_results(gen_hits)\n",
    "latest_gt_res = mt_client.get_and_extract_results(gt_hits)"
   ]
  },
  {
   "cell_type": "code",
   "execution_count": 604,
   "metadata": {},
   "outputs": [],
   "source": [
    "count_mistakes_gt = [count_errors(*hit) for hit in latest_gt_res.items()]\n",
    "recall_gt = compute_recall(count_mistakes_gt)"
   ]
  },
  {
   "cell_type": "code",
   "execution_count": 605,
   "metadata": {},
   "outputs": [],
   "source": [
    "count_mistakes_gen = [count_errors(*hit) for hit in latest_gen_res.items()]\n",
    "recall_gen = compute_recall(count_mistakes_gen)"
   ]
  },
  {
   "cell_type": "code",
   "execution_count": 624,
   "metadata": {},
   "outputs": [
    {
     "name": "stdout",
     "output_type": "stream",
     "text": [
      "{'entities': '0.604', 'verbs': '0.637', 'adjectives': '0.514'}\n",
      "{'entities': '0.971', 'verbs': '0.986', 'adjectives': '0.986'}\n"
     ]
    }
   ],
   "source": [
    "print({k: '{0:.3f}'.format(v) for k, v in recall_gen.items()})\n",
    "print({k: '{0:.3f}'.format(v) for k, v in recall_gt.items()})"
   ]
  },
  {
   "cell_type": "code",
   "execution_count": 628,
   "metadata": {},
   "outputs": [
    {
     "name": "stdout",
     "output_type": "stream",
     "text": [
      "ground truth\n",
      "bin_10_20\n",
      "{'entities': '0.957', 'verbs': '0.989', 'adjectives': '0.980'}\n",
      "\n",
      "bin_20_20_plus\n",
      "{'entities': '1.000', 'verbs': '0.977', 'adjectives': '1.000'}\n",
      "\n",
      "bin_0_10\n",
      "{'entities': '0.987', 'verbs': '0.984', 'adjectives': '1.000'}\n",
      "\n",
      "\n",
      "easy val\n",
      "bin_10_20\n",
      "{'entities': '0.559', 'verbs': '0.642', 'adjectives': '0.529'}\n",
      "\n",
      "bin_20_20_plus\n",
      "{'entities': '0.457', 'verbs': '0.535', 'adjectives': '0.538'}\n",
      "\n",
      "bin_0_10\n",
      "{'entities': '0.803', 'verbs': '0.694', 'adjectives': '0.375'}\n",
      "\n"
     ]
    }
   ],
   "source": [
    "print('ground truth')\n",
    "_ = report_by_bin(count_mistakes_gt)\n",
    "print()\n",
    "print('easy val')\n",
    "_ = report_by_bin(count_mistakes_gen)"
   ]
  },
  {
   "cell_type": "markdown",
   "metadata": {},
   "source": [
    "1. Noun, Adj, Action Recall (averaged across videos)\n",
    "\n",
    "2. Bin by description  length 0-10, 10-20, 20-30\n",
    "3. Noun, Adj, Action Accuracy\n",
    "4. 2 for accuracy\n",
    "200 sentences our dataset\n",
    "200 for templated sentences\n",
    "5. Filter out sentences where 3 turkers agree"
   ]
  },
  {
   "cell_type": "code",
   "execution_count": null,
   "metadata": {},
   "outputs": [],
   "source": []
  },
  {
   "cell_type": "code",
   "execution_count": null,
   "metadata": {},
   "outputs": [],
   "source": []
  },
  {
   "cell_type": "markdown",
   "metadata": {},
   "source": [
    "## 2.3 sanity check"
   ]
  },
  {
   "cell_type": "code",
   "execution_count": 189,
   "metadata": {
    "run_control": {
     "frozen": false,
     "read_only": false
    }
   },
   "outputs": [],
   "source": [
    "gt_no_issues, gt_ent_issues, gt_verb_issues, gt_both_issues = create_res_dfs(latest_gt_res)\n",
    "val_no_issues, val_ent_issues, val_verb_issues, val_both_issues = create_res_dfs(latest_gen_res)"
   ]
  },
  {
   "cell_type": "code",
   "execution_count": 190,
   "metadata": {
    "run_control": {
     "frozen": false,
     "read_only": false
    }
   },
   "outputs": [
    {
     "name": "stdout",
     "output_type": "stream",
     "text": [
      "90\n",
      "7\n",
      "2\n"
     ]
    }
   ],
   "source": [
    "print(gt_no_issues.shape[0])\n",
    "print(gt_ent_issues['entities'].apply(lambda x: len(x)).sum())\n",
    "print(gt_verb_issues['verbs'].apply(lambda x: len(x)).sum())"
   ]
  },
  {
   "cell_type": "code",
   "execution_count": 191,
   "metadata": {
    "run_control": {
     "frozen": false,
     "read_only": false
    }
   },
   "outputs": [
    {
     "name": "stdout",
     "output_type": "stream",
     "text": [
      "75\n",
      "21\n",
      "13\n"
     ]
    }
   ],
   "source": [
    "print(val_no_issues.shape[0])\n",
    "print(val_ent_issues['entities'].apply(lambda x: len(x)).sum())\n",
    "print(val_verb_issues['verbs'].apply(lambda x: len(x)).sum())"
   ]
  },
  {
   "cell_type": "markdown",
   "metadata": {},
   "source": [
    "here are some results:\n",
    "    \n",
    "I ran 100 videos, 50 from sm and 50 from lg\n",
    "\n",
    "for both the generated and gt videos\n",
    "\n",
    "for gt: 89% no errors, \n",
    "10 total entity errors (wrong char or object), 6 total verb errors\n",
    "\n",
    "for val: 75% no errors\n",
    "21 total entity errors (wrong char or object), 17 total verb errors"
   ]
  },
  {
   "cell_type": "code",
   "execution_count": 163,
   "metadata": {
    "run_control": {
     "frozen": false,
     "read_only": false
    }
   },
   "outputs": [],
   "source": [
    "from IPython.display import Image"
   ]
  },
  {
   "cell_type": "code",
   "execution_count": 165,
   "metadata": {
    "run_control": {
     "frozen": false,
     "read_only": false
    }
   },
   "outputs": [],
   "source": [
    "s3_base_path = 'https://s3-us-west-2.amazonaws.com/ai2-vision-animation-gan/annotation_data/generated_gifs/'\n",
    "def display_gif_generated(video):\n",
    "    gif_url = s3_base_path + video.gid() + '.gif'\n",
    "    return Image(url=gif_url)"
   ]
  },
  {
   "cell_type": "code",
   "execution_count": 225,
   "metadata": {
    "run_control": {
     "frozen": false,
     "read_only": false
    }
   },
   "outputs": [
    {
     "data": {
      "text/plain": [
       "entities    [room_1_0]\n",
       "verbs             None\n",
       "Name: s_06_e_22_shot_029687_029761, dtype: object"
      ]
     },
     "execution_count": 225,
     "metadata": {},
     "output_type": "execute_result"
    }
   ],
   "source": [
    "gt_ent_issues[gt_ent_issues.index == vid_id].iloc[0]"
   ]
  },
  {
   "cell_type": "code",
   "execution_count": 241,
   "metadata": {
    "run_control": {
     "frozen": false,
     "read_only": false
    }
   },
   "outputs": [
    {
     "data": {
      "text/html": [
       "<div>\n",
       "<style scoped>\n",
       "    .dataframe tbody tr th:only-of-type {\n",
       "        vertical-align: middle;\n",
       "    }\n",
       "\n",
       "    .dataframe tbody tr th {\n",
       "        vertical-align: top;\n",
       "    }\n",
       "\n",
       "    .dataframe thead th {\n",
       "        text-align: right;\n",
       "    }\n",
       "</style>\n",
       "<table border=\"1\" class=\"dataframe\">\n",
       "  <thead>\n",
       "    <tr style=\"text-align: right;\">\n",
       "      <th></th>\n",
       "      <th>entities</th>\n",
       "      <th>verbs</th>\n",
       "    </tr>\n",
       "  </thead>\n",
       "  <tbody>\n",
       "    <tr>\n",
       "      <th>s_03_e_25_shot_016784_016858</th>\n",
       "      <td>[None]</td>\n",
       "      <td>[lays_0_1]</td>\n",
       "    </tr>\n",
       "    <tr>\n",
       "      <th>s_06_e_21_shot_001133_001207</th>\n",
       "      <td>[None]</td>\n",
       "      <td>[sneezing_0_3]</td>\n",
       "    </tr>\n",
       "  </tbody>\n",
       "</table>\n",
       "</div>"
      ],
      "text/plain": [
       "                             entities           verbs\n",
       "s_03_e_25_shot_016784_016858   [None]      [lays_0_1]\n",
       "s_06_e_21_shot_001133_001207   [None]  [sneezing_0_3]"
      ]
     },
     "execution_count": 241,
     "metadata": {},
     "output_type": "execute_result"
    }
   ],
   "source": [
    "gt_verb_issues"
   ]
  },
  {
   "cell_type": "code",
   "execution_count": 245,
   "metadata": {
    "run_control": {
     "frozen": false,
     "read_only": false
    }
   },
   "outputs": [
    {
     "name": "stdout",
     "output_type": "stream",
     "text": [
      "Mr Slate is sneezing outside. \n",
      "entities            [None]\n",
      "verbs       [sneezing_0_3]\n",
      "Name: s_06_e_21_shot_001133_001207, dtype: object\n"
     ]
    },
    {
     "data": {
      "text/html": [
       "<img src=\"https://s3-us-west-2.amazonaws.com/ai2-vision-animation-gan/annotation_data/scene_gifs/s_06_e_21_shot_001133_001207.gif\"/>"
      ],
      "text/plain": [
       "<IPython.core.display.Image object>"
      ]
     },
     "execution_count": 245,
     "metadata": {},
     "output_type": "execute_result"
    }
   ],
   "source": [
    "vid_id = random.choice(gt_verb_issues.index)\n",
    "# vid_id = 's_05_e_23_shot_004103_004177'\n",
    "pvid = complete_ds.get_video(vid_id)\n",
    "\n",
    "print(pvid.description())\n",
    "print(gt_verb_issues[gt_verb_issues.index == vid_id].iloc[0])\n",
    "pvid.display_gif()\n",
    "# display_gif_generated(pvid)"
   ]
  },
  {
   "cell_type": "code",
   "execution_count": 194,
   "metadata": {
    "run_control": {
     "frozen": false,
     "read_only": false
    }
   },
   "outputs": [],
   "source": [
    "latest_gen_asgmts = mt_client.get_all_assignments(gen_hits)"
   ]
  },
  {
   "cell_type": "code",
   "execution_count": 195,
   "metadata": {
    "run_control": {
     "frozen": false,
     "read_only": false
    }
   },
   "outputs": [],
   "source": [
    "latest_gt_asgmts = mt_client.get_all_assignments(gt_hits)"
   ]
  },
  {
   "cell_type": "code",
   "execution_count": 246,
   "metadata": {
    "run_control": {
     "frozen": false,
     "read_only": false
    }
   },
   "outputs": [],
   "source": [
    "complete_as = [a for a in latest_gt_asgmts if a['Assignments']]"
   ]
  },
  {
   "cell_type": "code",
   "execution_count": 247,
   "metadata": {
    "run_control": {
     "frozen": false,
     "read_only": false
    }
   },
   "outputs": [
    {
     "data": {
      "text/plain": [
       "100"
      ]
     },
     "execution_count": 247,
     "metadata": {},
     "output_type": "execute_result"
    }
   ],
   "source": [
    "len(complete_as)"
   ]
  },
  {
   "cell_type": "code",
   "execution_count": 249,
   "metadata": {
    "run_control": {
     "frozen": false,
     "read_only": false
    }
   },
   "outputs": [],
   "source": [
    "# mt_client.approve_assignments(complete_as)"
   ]
  },
  {
   "cell_type": "markdown",
   "metadata": {
    "run_control": {
     "frozen": false,
     "read_only": false
    }
   },
   "source": [
    "1. Noun, Adj, Action Recall (averaged across videos)\n",
    "\n",
    "2. Bin by description  length 0-10, 10-20, 20-30\n",
    "3. Noun, Adj, Action Accuracy\n",
    "4. 2 for accuracy\n",
    "200 sentences our dataset\n",
    "200 for templated sentences\n",
    "5. Filter out sentences where 3 turkers agree"
   ]
  },
  {
   "cell_type": "code",
   "execution_count": null,
   "metadata": {
    "run_control": {
     "frozen": false,
     "read_only": false
    }
   },
   "outputs": [],
   "source": []
  },
  {
   "cell_type": "code",
   "execution_count": null,
   "metadata": {
    "run_control": {
     "frozen": false,
     "read_only": false
    }
   },
   "outputs": [],
   "source": []
  },
  {
   "cell_type": "code",
   "execution_count": null,
   "metadata": {
    "run_control": {
     "frozen": false,
     "read_only": false
    }
   },
   "outputs": [],
   "source": []
  },
  {
   "cell_type": "markdown",
   "metadata": {
    "heading_collapsed": true
   },
   "source": [
    "## 2.4 check results"
   ]
  },
  {
   "cell_type": "code",
   "execution_count": 506,
   "metadata": {
    "collapsed": true,
    "hidden": true,
    "run_control": {
     "frozen": false,
     "read_only": false
    }
   },
   "outputs": [],
   "source": [
    "main_characters =  {\"fred\",\n",
    "             \"barney\",\n",
    "              \"wilma\",\n",
    "              \"betty\",\n",
    "              \"pebbles\",\n",
    "              \"bamm bamm\",\n",
    "              \"dino\",\n",
    "              \"mr slate\",\n",
    "              \"baby puss\",\n",
    "              \"hoppy\",\n",
    "              \"empty frame\",\n",
    "              \"no characters\"}\n",
    "\n",
    "def create_result(assmt):\n",
    "    result = json.loads(assmt.answers[0][0].fields[0])\n",
    "    result['h_id'] = assmt.HITId\n",
    "    result['worker_id'] = assmt.WorkerId\n",
    "    return result\n",
    "\n",
    "\n",
    "def all_main(char_set, main_chars=main_characters):\n",
    "    return not bool(char_set.difference(main_chars))"
   ]
  },
  {
   "cell_type": "code",
   "execution_count": 513,
   "metadata": {
    "collapsed": true,
    "hidden": true,
    "run_control": {
     "frozen": false,
     "read_only": false
    }
   },
   "outputs": [],
   "source": [
    "assignments =[]\n",
    "for assignment_triple in list(results.values()):\n",
    "    assignments.extend(assignment_triple)\n",
    "\n",
    "assignment_results = [create_result(ar) for ar in assignments]\n",
    "characters_present = [{'h_id': anno['h_id'], 'w_id': anno['worker_id'], 'still_id': anno['stillID'], 'characters': set([ch['label'] for ch in json.loads(anno['characterBoxes'])])} for anno in assignment_results]"
   ]
  },
  {
   "cell_type": "code",
   "execution_count": null,
   "metadata": {
    "hidden": true,
    "run_control": {
     "frozen": false,
     "read_only": false
    }
   },
   "outputs": [],
   "source": []
  },
  {
   "cell_type": "code",
   "execution_count": null,
   "metadata": {
    "hidden": true,
    "run_control": {
     "frozen": false,
     "read_only": false
    }
   },
   "outputs": [],
   "source": []
  },
  {
   "cell_type": "markdown",
   "metadata": {
    "heading_collapsed": true
   },
   "source": [
    "# 3. Hide"
   ]
  },
  {
   "cell_type": "code",
   "execution_count": null,
   "metadata": {
    "hidden": true,
    "run_control": {
     "frozen": false,
     "read_only": false
    }
   },
   "outputs": [],
   "source": [
    "# def gen_template_args_from_datapoint_v1(video):\n",
    "#     description = video.description()\n",
    "#     if description[-1] != '.':\n",
    "#         description += '.'\n",
    "#     description = description.replace('\\'', '')\n",
    "#     formatted_description = [[word.encode('utf8').decode() for word in sent.split()] for sent in description.split('.')][:-1]\n",
    "#     return {'image_id': video.gid(), 'formatted_description': formatted_description}\n"
   ]
  },
  {
   "cell_type": "code",
   "execution_count": null,
   "metadata": {
    "hidden": true,
    "run_control": {
     "frozen": false,
     "read_only": false
    }
   },
   "outputs": [],
   "source": [
    "# test_vid = complete_ds.get_video('s_06_e_13_shot_041125_041199')\n",
    "\n",
    "# complete_ds.get_video('s_01_e_03_shot_023155_023229').description()\n",
    "\n",
    "# demo_vid = deepcopy(test_vid)\n",
    "\n",
    "# # for char in demo_vid.data()['characters']:\n",
    "# #     if char.data()['entityLabel'] == 'barney':\n",
    "# #         char.data()['entityLabel'] = 'wilma'\n",
    "# # demo_vid.data()['description'] = demo_vid.description().replace('Barney', 'Wilma')\n",
    "\n",
    "# # demo_vid.data()['setting'] = 'kitchen'\n",
    "# demo_vid.data()['characters'] = complete_ds.get_video('s_01_e_03_shot_023155_023229').data()['characters']\n",
    "# demo_vid.data()['objects'] = complete_ds.get_video('s_01_e_03_shot_023155_023229').data()['objects']\n",
    "# demo_vid.data()['parse'] = complete_ds.get_video('s_01_e_03_shot_023155_023229').data()['parse']\n",
    "\n",
    "# demo_vid.data()['setting'] = complete_ds.get_video('s_01_e_03_shot_023155_023229').setting()\n",
    "# demo_vid.data()['description'] = complete_ds.get_video('s_01_e_03_shot_023155_023229').description()"
   ]
  },
  {
   "cell_type": "code",
   "execution_count": null,
   "metadata": {
    "hidden": true,
    "run_control": {
     "frozen": false,
     "read_only": false
    }
   },
   "outputs": [],
   "source": [
    "# responses = [mt_client.create_html_hit(basic_hit_params=static_params, template_params=template_params, **gen_template_args_from_datapoint(vid)) for vid in videos]"
   ]
  },
  {
   "cell_type": "code",
   "execution_count": null,
   "metadata": {
    "hidden": true,
    "run_control": {
     "frozen": false,
     "read_only": false
    }
   },
   "outputs": [],
   "source": [
    "# sent_len_threshold = 30\n",
    "# current_batch_short_sent = {vid: desc for vid, desc in working_corrected.items() if sent_len_threshold > len(desc.split())}\n",
    "# current_batch_very_long_sent = {vid: desc for vid, desc in working_corrected.items() if sent_len_threshold <= len(desc.split())}"
   ]
  }
 ],
 "metadata": {
  "kernelspec": {
   "display_name": "Python 3",
   "language": "python",
   "name": "python3"
  },
  "language_info": {
   "codemirror_mode": {
    "name": "ipython",
    "version": 3
   },
   "file_extension": ".py",
   "mimetype": "text/x-python",
   "name": "python",
   "nbconvert_exporter": "python",
   "pygments_lexer": "ipython3",
   "version": "3.6.4"
  }
 },
 "nbformat": 4,
 "nbformat_minor": 1
}
