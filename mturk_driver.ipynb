{
 "cells": [
  {
   "cell_type": "markdown",
   "metadata": {
    "heading_collapsed": true
   },
   "source": [
    "# Table of Contents\n",
    "* [Setup](#Setup)\n",
    "\t* [estimate cost](#estimate-cost)\n",
    "\t* [load dataset](#load-dataset)\n",
    "* [Submitting HITs](#Submitting-HITs)\n",
    "* [Retrieve results](#Retrieve-results)\n",
    "* [Interact with workers](#Interact-with-workers)\n",
    "* [Accepting and deleting HITs... careful with these](#Accepting-and-deleting-HITs...-careful-with-these)\n"
   ]
  },
  {
   "cell_type": "code",
   "execution_count": 1,
   "metadata": {
    "hidden": true,
    "run_control": {
     "frozen": false,
     "read_only": false
    }
   },
   "outputs": [],
   "source": [
    "%%capture\n",
    "%load_ext autoreload\n",
    "%autoreload 2\n",
    "\n",
    "import pickle\n",
    "import boto3\n",
    "import json\n",
    "import os\n",
    "from copy import deepcopy\n",
    "from tqdm import tqdm\n",
    "\n",
    "from IPython.core.display import HTML\n",
    "\n",
    "from keysTkingdom import mturk_ai2\n",
    "\n",
    "from mturk.mturk import MTurk"
   ]
  },
  {
   "cell_type": "code",
   "execution_count": 612,
   "metadata": {
    "hidden": true,
    "run_control": {
     "frozen": false,
     "read_only": false
    }
   },
   "outputs": [],
   "source": [
    "import os\n",
    "import random\n",
    "import datetime"
   ]
  },
  {
   "cell_type": "code",
   "execution_count": 10,
   "metadata": {
    "hidden": true,
    "run_control": {
     "frozen": false,
     "read_only": false
    }
   },
   "outputs": [],
   "source": [
    "def unpickle_this(file_name):\n",
    "    with open(file_name, 'rb') as f:\n",
    "        results_df = pickle.load(f)\n",
    "    return results_df"
   ]
  },
  {
   "cell_type": "markdown",
   "metadata": {
    "heading_collapsed": true
   },
   "source": [
    "# data"
   ]
  },
  {
   "cell_type": "code",
   "execution_count": 5,
   "metadata": {
    "hidden": true,
    "run_control": {
     "frozen": false,
     "read_only": false
    }
   },
   "outputs": [],
   "source": [
    "with open('./data/complete_dataset_3_3.pkl', 'rb') as f:\n",
    "    complete_ds = pickle.load(f)"
   ]
  },
  {
   "cell_type": "code",
   "execution_count": 6,
   "metadata": {
    "hidden": true,
    "run_control": {
     "frozen": false,
     "read_only": false
    }
   },
   "outputs": [],
   "source": [
    "s3_base_path = 'https://s3-us-west-2.amazonaws.com/ai2-vision-animation-gan/annotation_data/still_frames/'"
   ]
  },
  {
   "cell_type": "markdown",
   "metadata": {
    "run_control": {
     "frozen": false,
     "read_only": false
    }
   },
   "source": [
    "# Submitting HITs- metric collection"
   ]
  },
  {
   "cell_type": "code",
   "execution_count": 40,
   "metadata": {
    "run_control": {
     "frozen": false,
     "read_only": false
    }
   },
   "outputs": [
    {
     "name": "stdout",
     "output_type": "stream",
     "text": [
      "Account balance is: $10000.00\n"
     ]
    }
   ],
   "source": [
    "mt_client = MTurk(mturk_ai2.access_key, mturk_ai2.access_secret_key)"
   ]
  },
  {
   "cell_type": "code",
   "execution_count": 148,
   "metadata": {
    "code_folding": [],
    "run_control": {
     "frozen": false,
     "read_only": false
    }
   },
   "outputs": [],
   "source": [
    "static_params = {\n",
    "    'Title': \"sentence word marking\",\n",
    "    'Description': \"task description\",\n",
    "    'Keywords': 'task, key, words',\n",
    "    'frame_height': 1000,\n",
    "    'Reward': f'{0.01}',\n",
    "    'AssignmentDurationInSeconds': 3600 * 1,\n",
    "    'LifetimeInSeconds': 3600 * 24 * 2,\n",
    "    'MaxAssignments': 1,\n",
    "}\n",
    "\n",
    "template_params = {\n",
    "    'template_file': 'task_template_v2.html', \n",
    "    'template_dir': 'hit_templates'\n",
    "}"
   ]
  },
  {
   "cell_type": "code",
   "execution_count": 82,
   "metadata": {
    "run_control": {
     "frozen": false,
     "read_only": false
    }
   },
   "outputs": [],
   "source": [
    "sent_len_threshold = 30\n",
    "current_batch_short_sent = {vid: desc for vid, desc in working_corrected.items() if sent_len_threshold > len(desc.split())}\n",
    "current_batch_very_long_sent = {vid: desc for vid, desc in working_corrected.items() if sent_len_threshold <= len(desc.split())}\n",
    "\n",
    "sents = [{'image_id': vid, 'formatted_description': sent} for vid, sent in current_batch_short_sent.items()]\n",
    "sent = sents[0]"
   ]
  },
  {
   "cell_type": "code",
   "execution_count": 888,
   "metadata": {
    "run_control": {
     "frozen": false,
     "read_only": false
    }
   },
   "outputs": [],
   "source": [
    "cat_headers = {\n",
    "    'entities': 'Are any of the following people/places/things missing from the video?',\n",
    "    'verbs': 'Do all of the actions highlighted in yellow take place in the video?'\n",
    "}"
   ]
  },
  {
   "cell_type": "code",
   "execution_count": 887,
   "metadata": {
    "run_control": {
     "frozen": false,
     "read_only": false
    }
   },
   "outputs": [],
   "source": [
    "verb_blacklist = set(['is', 'are', 'was'])"
   ]
  },
  {
   "cell_type": "code",
   "execution_count": 1106,
   "metadata": {
    "code_folding": [
     0
    ],
    "run_control": {
     "frozen": false,
     "marked": false,
     "read_only": false
    }
   },
   "outputs": [],
   "source": [
    "def gen_template_args_from_datapoint_v1(video):\n",
    "    description = video.description()\n",
    "    if description[-1] != '.':\n",
    "        description += '.'\n",
    "    description = description.replace('\\'', '')\n",
    "    formatted_description = [[word.encode('utf8').decode() for word in sent.split()] for sent in description.split('.')][:-1]\n",
    "    return {'image_id': video.gid(), 'formatted_description': formatted_description}\n",
    "\n",
    "def gen_template_args_from_datapoint(video):\n",
    "    description = video.description()\n",
    "    if description[-1] != '.':\n",
    "        description += '.'\n",
    "    description = description.replace('\\'', '')\n",
    "    formatted_description = [[word.encode('utf8').decode() for word in sent.split()] for sent in description.split('.')][:-1]\n",
    "    \n",
    "    vid_ents = [[c.data()['entityLabel']] for c in video.data()['characters'] + video.data()['objects']] + [[video.setting()]]\n",
    "    vid_verbs = [word[0] for word in video.data()['parse']['pos_tags'] if word[1] in ['VBG', 'VBZ', 'VBP'] and word[0] not in verb_blacklist]\n",
    "    \n",
    "    ent_button_js = form_button_arr_js(vid_ents, [v[0] for v in vid_ents], ('entities', cat_headers['entities']))\n",
    "    verb_button_js = form_button_arr_js(formatted_description, vid_verbs, ('verbs', cat_headers['verbs']))\n",
    "    \n",
    "    return {'image_id': video.gid(), 'verb_button_js': verb_button_js, 'ent_button_js': ent_button_js}\n",
    "\n",
    "def form_button_arr_js(buttons, active, category=None):\n",
    "    if not buttons:\n",
    "        return ''\n",
    "    button_arr_js = f\"<br><h4>{category[1]}</h4>\"\n",
    "    for i, sent in enumerate(buttons):\n",
    "        button_arr_js += '<br>\\n'\n",
    "        for j, word in enumerate(sent):\n",
    "            b_id = '_'.join(['_'.join(word.split()), str(i), str(j)])\n",
    "            disabled = '' if word in active else 'disabled=true' \n",
    "            color = '#FFFF4C' if word in active else '' \n",
    "            button_arr_js += f\"<input type='button' onclick=\\\"record_value('{b_id}');\\\" value='{word}' id= '{b_id}' {disabled}  style=background-color:{color} />\"    \n",
    "    button_arr_js += f\"<br><input type='button' onclick=\\\"record_value('{category[0] + '_None'}');\\\" style=background-color:#ff0000 value='None Missing' id='{category[0] + '_None'}' />\"\n",
    "    return button_arr_js"
   ]
  },
  {
   "cell_type": "code",
   "execution_count": 1140,
   "metadata": {
    "run_control": {
     "frozen": false,
     "read_only": false
    }
   },
   "outputs": [],
   "source": [
    "test_vid = complete_ds.get_video('s_06_e_13_shot_041125_041199')"
   ]
  },
  {
   "cell_type": "code",
   "execution_count": 1146,
   "metadata": {
    "run_control": {
     "frozen": false,
     "read_only": false
    }
   },
   "outputs": [
    {
     "data": {
      "text/plain": [
       "'Wilma and Betty are in the back yard. They are leaning against either side of a wall. Betty is talking to Wilma. Then Wilma answers.'"
      ]
     },
     "execution_count": 1146,
     "metadata": {},
     "output_type": "execute_result"
    }
   ],
   "source": [
    "complete_ds.get_video('s_01_e_03_shot_023155_023229').description()"
   ]
  },
  {
   "cell_type": "code",
   "execution_count": 1141,
   "metadata": {
    "run_control": {
     "frozen": false,
     "read_only": false
    }
   },
   "outputs": [],
   "source": [
    "demo_vid = deepcopy(test_vid)"
   ]
  },
  {
   "cell_type": "code",
   "execution_count": 1154,
   "metadata": {
    "run_control": {
     "frozen": false,
     "read_only": false
    }
   },
   "outputs": [],
   "source": [
    "# for char in demo_vid.data()['characters']:\n",
    "#     if char.data()['entityLabel'] == 'barney':\n",
    "#         char.data()['entityLabel'] = 'wilma'\n",
    "# demo_vid.data()['description'] = demo_vid.description().replace('Barney', 'Wilma')\n",
    "\n",
    "# demo_vid.data()['setting'] = 'kitchen'\n",
    "demo_vid.data()['characters'] = complete_ds.get_video('s_01_e_03_shot_023155_023229').data()['characters']\n",
    "demo_vid.data()['objects'] = complete_ds.get_video('s_01_e_03_shot_023155_023229').data()['objects']\n",
    "demo_vid.data()['parse'] = complete_ds.get_video('s_01_e_03_shot_023155_023229').data()['parse']\n",
    "\n",
    "demo_vid.data()['setting'] = complete_ds.get_video('s_01_e_03_shot_023155_023229').setting()\n",
    "demo_vid.data()['description'] = complete_ds.get_video('s_01_e_03_shot_023155_023229').description()"
   ]
  },
  {
   "cell_type": "code",
   "execution_count": 1158,
   "metadata": {
    "run_control": {
     "frozen": false,
     "read_only": false
    }
   },
   "outputs": [],
   "source": [
    "mt_client.preview_hit_interface(template_params, **gen_template_args_from_datapoint(demo_vid))"
   ]
  },
  {
   "cell_type": "code",
   "execution_count": 1153,
   "metadata": {
    "run_control": {
     "frozen": false,
     "read_only": false
    }
   },
   "outputs": [],
   "source": [
    "resp = mt_client.create_html_hit(static_params, template_params, **gen_template_args_from_datapoint(test_vid))"
   ]
  },
  {
   "cell_type": "code",
   "execution_count": 986,
   "metadata": {
    "run_control": {
     "frozen": false,
     "read_only": false
    }
   },
   "outputs": [],
   "source": [
    "test_vid = random.choice(complete_ds.data)"
   ]
  },
  {
   "cell_type": "markdown",
   "metadata": {},
   "source": [
    "# Retreive results"
   ]
  },
  {
   "cell_type": "code",
   "execution_count": 1181,
   "metadata": {
    "run_control": {
     "frozen": false,
     "read_only": false
    }
   },
   "outputs": [],
   "source": [
    "# del_resp = [mt_client.client.delete_hit(HITId=v['HITId']) for v in all_hits]"
   ]
  },
  {
   "cell_type": "code",
   "execution_count": 1189,
   "metadata": {
    "run_control": {
     "frozen": false,
     "read_only": false
    }
   },
   "outputs": [],
   "source": [
    "def get_all_hits():\n",
    "    response = mt_client.client.list_hits(MaxResults=100)\n",
    "    return response['HITs']\n",
    "\n",
    "def expire_hits(hits, exp_date=datetime.datetime(2001, 1, 1)):\n",
    "    responses = [mt_client.client.update_expiration_for_hit(HITId=h['HITId'], ExpireAt=exp_date) for h in hits]\n",
    "\n",
    "def delete_hits(hits):\n",
    "    responses = [mt_client.client.delete_hit(HITId=h['HITId']) for h in hits]\n",
    "\n",
    "def force_delete_hits(hits):\n",
    "    expire_hits(hits)\n",
    "    delete_hits(hits)\n",
    "    \n",
    "def set_hits_reviewing(hits):\n",
    "    responses = [mt_client.client.update_hit_review_status(HITId=h['HITId'], Revert=False) for h in hits]\n",
    "    \n",
    "def revert_hits_reviewable(hits):\n",
    "    responses = [mt_client.client.update_hit_review_status(HITId=h['HITId'], Revert=True) for h in hits]"
   ]
  },
  {
   "cell_type": "code",
   "execution_count": null,
   "metadata": {},
   "outputs": [],
   "source": []
  },
  {
   "cell_type": "code",
   "execution_count": 1172,
   "metadata": {
    "run_control": {
     "frozen": false,
     "read_only": false
    }
   },
   "outputs": [],
   "source": [
    "def get_all_assignments(mt_client, all_hits=[]):\n",
    "    assignments = []\n",
    "    if not all_hits:\n",
    "        all_hits = mt_client.list_hits(MaxResults=100)['HITs']\n",
    "    for hit in all_hits:\n",
    "        assignments.append(mt_client.list_assignments_for_hit(\n",
    "            HITId=hit['HITId'],\n",
    "            AssignmentStatuses=['Submitted', 'Approved'],\n",
    "            MaxResults=10)\n",
    "        )\n",
    "    return assignments\n",
    "\n",
    "def approve_assignments(assignments):\n",
    "    for hit in assignments:\n",
    "        for assignment in hit['Assignments']:\n",
    "            print(assignment['AssignmentStatus'])\n",
    "            if assignment['AssignmentStatus'] == 'Submitted':\n",
    "                assignment_id = assignment['AssignmentId']\n",
    "                print('Approving Assignment {}'.format(assignment_id))\n",
    "                mt_client.client.approve_assignment(\n",
    "                    AssignmentId=assignment_id,\n",
    "                    RequesterFeedback='good',\n",
    "                    OverrideRejection=False,\n",
    "                )"
   ]
  },
  {
   "cell_type": "code",
   "execution_count": 1173,
   "metadata": {
    "run_control": {
     "frozen": false,
     "read_only": false
    }
   },
   "outputs": [],
   "source": [
    "assignments = get_all_assignments(mt_client.client, all_hits)"
   ]
  },
  {
   "cell_type": "code",
   "execution_count": 1174,
   "metadata": {
    "run_control": {
     "frozen": false,
     "read_only": false
    }
   },
   "outputs": [],
   "source": [
    "approve_assignments(assignments)"
   ]
  },
  {
   "cell_type": "code",
   "execution_count": 634,
   "metadata": {
    "run_control": {
     "frozen": false,
     "read_only": false
    }
   },
   "outputs": [],
   "source": [
    "# mt_client.client.list_hits(MaxResults=100)"
   ]
  },
  {
   "cell_type": "code",
   "execution_count": null,
   "metadata": {
    "run_control": {
     "frozen": false,
     "read_only": false
    }
   },
   "outputs": [],
   "source": []
  },
  {
   "cell_type": "code",
   "execution_count": null,
   "metadata": {
    "run_control": {
     "frozen": false,
     "read_only": false
    }
   },
   "outputs": [],
   "source": [
    "# def delete_all_hits(mt_client):\n",
    "#     all_hits = mt_client.client.list_hits(MaxResults=100)\n",
    "#     expire_early = [mt_client.client.update_expiration_for_hit(HITId=v['HITId'], ExpireAt=datetime(2000, 1, 1)) for v in all_hits['HITs']]"
   ]
  },
  {
   "cell_type": "markdown",
   "metadata": {
    "heading_collapsed": true
   },
   "source": [
    "## check results"
   ]
  },
  {
   "cell_type": "code",
   "execution_count": 506,
   "metadata": {
    "collapsed": true,
    "hidden": true,
    "run_control": {
     "frozen": false,
     "read_only": false
    }
   },
   "outputs": [],
   "source": [
    "main_characters =  {\"fred\",\n",
    "             \"barney\",\n",
    "              \"wilma\",\n",
    "              \"betty\",\n",
    "              \"pebbles\",\n",
    "              \"bamm bamm\",\n",
    "              \"dino\",\n",
    "              \"mr slate\",\n",
    "              \"baby puss\",\n",
    "              \"hoppy\",\n",
    "              \"empty frame\",\n",
    "              \"no characters\"}\n",
    "\n",
    "def create_result(assmt):\n",
    "    result = json.loads(assmt.answers[0][0].fields[0])\n",
    "    result['h_id'] = assmt.HITId\n",
    "    result['worker_id'] = assmt.WorkerId\n",
    "    return result\n",
    "\n",
    "\n",
    "def all_main(char_set, main_chars=main_characters):\n",
    "    return not bool(char_set.difference(main_chars))"
   ]
  },
  {
   "cell_type": "code",
   "execution_count": 513,
   "metadata": {
    "collapsed": true,
    "hidden": true,
    "run_control": {
     "frozen": false,
     "read_only": false
    }
   },
   "outputs": [],
   "source": [
    "assignments =[]\n",
    "for assignment_triple in list(results.values()):\n",
    "    assignments.extend(assignment_triple)\n",
    "\n",
    "assignment_results = [create_result(ar) for ar in assignments]\n",
    "characters_present = [{'h_id': anno['h_id'], 'w_id': anno['worker_id'], 'still_id': anno['stillID'], 'characters': set([ch['label'] for ch in json.loads(anno['characterBoxes'])])} for anno in assignment_results]"
   ]
  }
 ],
 "metadata": {
  "kernelspec": {
   "display_name": "Python 3",
   "language": "python",
   "name": "python3"
  },
  "language_info": {
   "codemirror_mode": {
    "name": "ipython",
    "version": 3
   },
   "file_extension": ".py",
   "mimetype": "text/x-python",
   "name": "python",
   "nbconvert_exporter": "python",
   "pygments_lexer": "ipython3",
   "version": "3.6.4"
  }
 },
 "nbformat": 4,
 "nbformat_minor": 1
}
