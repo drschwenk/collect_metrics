{
 "cells": [
  {
   "cell_type": "markdown",
   "metadata": {
    "heading_collapsed": true
   },
   "source": [
    "# Table of Contents\n",
    "* [Setup](#Setup)\n",
    "\t* [estimate cost](#estimate-cost)\n",
    "\t* [load dataset](#load-dataset)\n",
    "* [Submitting HITs](#Submitting-HITs)\n",
    "* [Retrieve results](#Retrieve-results)\n",
    "* [Interact with workers](#Interact-with-workers)\n",
    "* [Accepting and deleting HITs... careful with these](#Accepting-and-deleting-HITs...-careful-with-these)\n"
   ]
  },
  {
   "cell_type": "code",
   "execution_count": 1,
   "metadata": {
    "hidden": true,
    "run_control": {
     "frozen": false,
     "read_only": false
    }
   },
   "outputs": [],
   "source": [
    "%%capture\n",
    "%load_ext autoreload\n",
    "%autoreload 2\n",
    "\n",
    "import pickle\n",
    "import boto3\n",
    "import json\n",
    "import os\n",
    "from copy import deepcopy\n",
    "from tqdm import tqdm\n",
    "\n",
    "from IPython.core.display import HTML\n",
    "\n",
    "from keysTkingdom import mturk_ai2\n",
    "\n",
    "from mturk.mturk import MTurk"
   ]
  },
  {
   "cell_type": "code",
   "execution_count": 4,
   "metadata": {
    "hidden": true,
    "run_control": {
     "frozen": false,
     "read_only": false
    }
   },
   "outputs": [],
   "source": [
    "import os"
   ]
  },
  {
   "cell_type": "code",
   "execution_count": 10,
   "metadata": {
    "hidden": true
   },
   "outputs": [],
   "source": [
    "def unpickle_this(file_name):\n",
    "    with open(file_name, 'rb') as f:\n",
    "        results_df = pickle.load(f)\n",
    "    return results_df"
   ]
  },
  {
   "cell_type": "markdown",
   "metadata": {
    "heading_collapsed": true
   },
   "source": [
    "# data"
   ]
  },
  {
   "cell_type": "code",
   "execution_count": 5,
   "metadata": {
    "hidden": true,
    "run_control": {
     "frozen": false,
     "read_only": false
    }
   },
   "outputs": [],
   "source": [
    "with open('./data/complete_dataset_3_3.pkl', 'rb') as f:\n",
    "    complete_ds = pickle.load(f)"
   ]
  },
  {
   "cell_type": "code",
   "execution_count": 6,
   "metadata": {
    "hidden": true,
    "run_control": {
     "frozen": false,
     "read_only": false
    }
   },
   "outputs": [],
   "source": [
    "s3_base_path = 'https://s3-us-west-2.amazonaws.com/ai2-vision-animation-gan/annotation_data/still_frames/'"
   ]
  },
  {
   "cell_type": "markdown",
   "metadata": {
    "run_control": {
     "frozen": false,
     "read_only": false
    }
   },
   "source": [
    "# Submitting HITs- metric collection"
   ]
  },
  {
   "cell_type": "code",
   "execution_count": 40,
   "metadata": {},
   "outputs": [
    {
     "name": "stdout",
     "output_type": "stream",
     "text": [
      "Account balance is: $10000.00\n"
     ]
    }
   ],
   "source": [
    "mt_client = MTurk(mturk_ai2.access_key, mturk_ai2.access_secret_key)"
   ]
  },
  {
   "cell_type": "code",
   "execution_count": 7,
   "metadata": {
    "code_folding": [],
    "run_control": {
     "frozen": false,
     "read_only": false
    }
   },
   "outputs": [],
   "source": [
    "static_params = {\n",
    "    'Title': \"sentence word marking\",\n",
    "    'Description': \"task description\",\n",
    "    'Keywords': 'task, key, words',\n",
    "    'frame_height': 1000,\n",
    "    'Reward': f'{0.01}',\n",
    "    'AssignmentDurationInSeconds': 3600 * 1,\n",
    "    'LifetimeInSeconds': 3600 * 24 * 2,\n",
    "    'MaxAssignments': 1,\n",
    "}\n",
    "\n",
    "template_params = {\n",
    "    'template_file': 'task_template.html', \n",
    "    'template_dir': 'hit_templates'\n",
    "}"
   ]
  },
  {
   "cell_type": "code",
   "execution_count": 82,
   "metadata": {},
   "outputs": [],
   "source": [
    "sent_len_threshold = 30\n",
    "current_batch_short_sent = {vid: desc for vid, desc in working_corrected.items() if sent_len_threshold > len(desc.split())}\n",
    "current_batch_very_long_sent = {vid: desc for vid, desc in working_corrected.items() if sent_len_threshold <= len(desc.split())}\n",
    "\n",
    "sents = [{'image_id': vid, 'formatted_description': sent} for vid, sent in current_batch_short_sent.items()]\n",
    "sent = sents[0]"
   ]
  },
  {
   "cell_type": "code",
   "execution_count": 37,
   "metadata": {},
   "outputs": [],
   "source": [
    "def gen_template_args_from_datapoint(video):\n",
    "    description = video.description()\n",
    "    if description[-1] != '.':\n",
    "        description += '.'\n",
    "    description = description.replace('\\'', '')\n",
    "    formatted_description = [[word.encode('utf8').decode() for word in sent.split()] for sent in description.split('.')][:-1]\n",
    "    return {'image_id': video.gid(), 'formatted_description': formatted_description}"
   ]
  },
  {
   "cell_type": "code",
   "execution_count": 41,
   "metadata": {},
   "outputs": [],
   "source": [
    "test_vid = complete_ds.data[100]"
   ]
  },
  {
   "cell_type": "code",
   "execution_count": 83,
   "metadata": {},
   "outputs": [],
   "source": [
    "mt_client.preview_hit_interface(template_params, **gen_template_args_from_datapoint(test_vid))"
   ]
  },
  {
   "cell_type": "code",
   "execution_count": null,
   "metadata": {},
   "outputs": [],
   "source": []
  },
  {
   "cell_type": "code",
   "execution_count": null,
   "metadata": {},
   "outputs": [],
   "source": []
  },
  {
   "cell_type": "code",
   "execution_count": null,
   "metadata": {},
   "outputs": [],
   "source": []
  },
  {
   "cell_type": "code",
   "execution_count": 50,
   "metadata": {},
   "outputs": [],
   "source": [
    "resp = mt_client.create_html_hit(static_params, template_params, **gen_template_args_from_datapoint(test_vid))"
   ]
  },
  {
   "cell_type": "code",
   "execution_count": null,
   "metadata": {},
   "outputs": [],
   "source": []
  },
  {
   "cell_type": "markdown",
   "metadata": {
    "heading_collapsed": true
   },
   "source": [
    "# Retreive results"
   ]
  },
  {
   "cell_type": "code",
   "execution_count": 55,
   "metadata": {
    "hidden": true
   },
   "outputs": [],
   "source": [
    "import datetime\n",
    "\n",
    "all_hits = mt_client.client.list_hits(MaxResults=100)\n",
    "\n",
    "expire_early = [mt_client.client.update_expiration_for_hit(HITId=v['HITId'], ExpireAt=datetime.datetime(2015, 1, 1)) for v in all_hits['HITs']]\n",
    "\n",
    "exp = [mt_client.client.update_hit_review_status(HITId=v['HITId'], Revert=False) for v in all_hits['HITs']]\n",
    "\n",
    "del_resp = [mt_client.client.delete_hit(HITId=v['HITId']) for v in all_hits['HITs']]"
   ]
  },
  {
   "cell_type": "code",
   "execution_count": 75,
   "metadata": {
    "hidden": true
   },
   "outputs": [],
   "source": [
    "def get_all_assignments(mt_client, all_hits=[]):\n",
    "    assignments = []\n",
    "    if not all_hits:\n",
    "        all_hits = mt_client.list_hits(MaxResults=100)['HITs']\n",
    "        for hit in all_hits:\n",
    "            assignments.append(mt_client.list_assignments_for_hit(\n",
    "                HITId=hit['HITId'],\n",
    "                AssignmentStatuses=['Submitted', 'Approved'],\n",
    "                MaxResults=10)\n",
    "            )\n",
    "    return assignments"
   ]
  },
  {
   "cell_type": "code",
   "execution_count": 76,
   "metadata": {
    "hidden": true
   },
   "outputs": [],
   "source": [
    "assignments = get_all_assignments(mt_client.client)"
   ]
  },
  {
   "cell_type": "code",
   "execution_count": 80,
   "metadata": {
    "hidden": true
   },
   "outputs": [
    {
     "data": {
      "text/plain": [
       "[{'AcceptTime': datetime.datetime(2018, 1, 25, 16, 3, 19, tzinfo=tzlocal()),\n",
       "  'Answer': '<?xml version=\"1.0\" encoding=\"ASCII\"?><QuestionFormAnswers xmlns=\"http://mechanicalturk.amazonaws.com/AWSMechanicalTurkDataSchemas/2005-10-01/QuestionFormAnswers.xsd\"><Answer><QuestionIdentifier>output</QuestionIdentifier><FreeText>{\"image_url\":\"https://s3-us-west-2.amazonaws.com/ai2-vision-animation-gan/annotation_data/user_study/groundtruth/1005.png\",\"selected_image\":\"pix2pix\"}</FreeText></Answer></QuestionFormAnswers>',\n",
       "  'AssignmentId': '31QTRG6Q2UD1PJ21SAF9I6AC1YOYPU',\n",
       "  'AssignmentStatus': 'Submitted',\n",
       "  'AutoApprovalTime': datetime.datetime(2018, 2, 24, 16, 3, 29, tzinfo=tzlocal()),\n",
       "  'HITId': '3DFYDSXB2X0LZFH4XU8YU5N6LGVUJC',\n",
       "  'SubmitTime': datetime.datetime(2018, 1, 25, 16, 3, 29, tzinfo=tzlocal()),\n",
       "  'WorkerId': 'AO235WMFCB1D9'},\n",
       " {'AcceptTime': datetime.datetime(2018, 1, 27, 5, 43, 35, tzinfo=tzlocal()),\n",
       "  'Answer': '<?xml version=\"1.0\" encoding=\"ASCII\"?><QuestionFormAnswers xmlns=\"http://mechanicalturk.amazonaws.com/AWSMechanicalTurkDataSchemas/2005-10-01/QuestionFormAnswers.xsd\"><Answer><QuestionIdentifier>output</QuestionIdentifier><FreeText>{\"image_url\":\"https://s3-us-west-2.amazonaws.com/ai2-vision-animation-gan/annotation_data/user_study/groundtruth/1005.png\",\"selected_image\":\"ours\"}</FreeText></Answer></QuestionFormAnswers>',\n",
       "  'AssignmentId': '37UQDCYH6YVVFJ3WRDY8BLFXJNM7VT',\n",
       "  'AssignmentStatus': 'Submitted',\n",
       "  'AutoApprovalTime': datetime.datetime(2018, 2, 26, 5, 43, 43, tzinfo=tzlocal()),\n",
       "  'HITId': '3DFYDSXB2X0LZFH4XU8YU5N6LGVUJC',\n",
       "  'SubmitTime': datetime.datetime(2018, 1, 27, 5, 43, 43, tzinfo=tzlocal()),\n",
       "  'WorkerId': 'A18W17NRWQFUYN'}]"
      ]
     },
     "execution_count": 80,
     "metadata": {},
     "output_type": "execute_result"
    }
   ],
   "source": [
    "assignments[0]['Assignments']"
   ]
  },
  {
   "cell_type": "code",
   "execution_count": 81,
   "metadata": {
    "hidden": true
   },
   "outputs": [
    {
     "ename": "TypeError",
     "evalue": "list indices must be integers or slices, not str",
     "output_type": "error",
     "traceback": [
      "\u001b[0;31m---------------------------------------------------------------------------\u001b[0m",
      "\u001b[0;31mTypeError\u001b[0m                                 Traceback (most recent call last)",
      "\u001b[0;32m<ipython-input-81-c57821b5c5cd>\u001b[0m in \u001b[0;36m<module>\u001b[0;34m()\u001b[0m\n\u001b[1;32m      1\u001b[0m \u001b[0;32mfor\u001b[0m \u001b[0massignment_resp\u001b[0m \u001b[0;32min\u001b[0m \u001b[0massignments\u001b[0m\u001b[0;34m:\u001b[0m\u001b[0;34m\u001b[0m\u001b[0m\n\u001b[1;32m      2\u001b[0m     \u001b[0massignment\u001b[0m \u001b[0;34m=\u001b[0m \u001b[0massignment_resp\u001b[0m\u001b[0;34m[\u001b[0m\u001b[0;34m'Assignments'\u001b[0m\u001b[0;34m]\u001b[0m\u001b[0;34m\u001b[0m\u001b[0m\n\u001b[0;32m----> 3\u001b[0;31m     \u001b[0;32mif\u001b[0m \u001b[0massignment\u001b[0m\u001b[0;34m[\u001b[0m\u001b[0;34m'AssignmentStatus'\u001b[0m\u001b[0;34m]\u001b[0m \u001b[0;34m==\u001b[0m \u001b[0;34m'Submitted'\u001b[0m\u001b[0;34m:\u001b[0m\u001b[0;34m\u001b[0m\u001b[0m\n\u001b[0m\u001b[1;32m      4\u001b[0m         \u001b[0mprint\u001b[0m\u001b[0;34m(\u001b[0m\u001b[0;34m'Approving Assignment {}'\u001b[0m\u001b[0;34m.\u001b[0m\u001b[0mformat\u001b[0m\u001b[0;34m(\u001b[0m\u001b[0massignment_id\u001b[0m\u001b[0;34m)\u001b[0m\u001b[0;34m)\u001b[0m\u001b[0;34m\u001b[0m\u001b[0m\n\u001b[1;32m      5\u001b[0m         client.approve_assignment(\n",
      "\u001b[0;31mTypeError\u001b[0m: list indices must be integers or slices, not str"
     ]
    }
   ],
   "source": [
    "for assignment_resp in assignments: \n",
    "    assignment = assignment_resp['Assignments']\n",
    "    if assignment['AssignmentStatus'] == 'Submitted':\n",
    "        print('Approving Assignment {}'.format(assignment_id))\n",
    "        client.approve_assignment(\n",
    "            AssignmentId=assignment_id,\n",
    "            RequesterFeedback='good',\n",
    "            OverrideRejection=False,\n",
    "        )"
   ]
  },
  {
   "cell_type": "code",
   "execution_count": null,
   "metadata": {
    "hidden": true
   },
   "outputs": [],
   "source": [
    "mt_client.client.list_hits(MaxResults=100)"
   ]
  },
  {
   "cell_type": "code",
   "execution_count": null,
   "metadata": {
    "hidden": true
   },
   "outputs": [],
   "source": []
  },
  {
   "cell_type": "code",
   "execution_count": null,
   "metadata": {
    "hidden": true
   },
   "outputs": [],
   "source": [
    "def delete_all_hits(mt_client):\n",
    "    all_hits = mt_client.client.list_hits(MaxResults=100)\n",
    "    expire_early = [mt_client.client.update_expiration_for_hit(HITId=v['HITId'], ExpireAt=datetime(2000, 1, 1)) for v in all_hits['HITs']]"
   ]
  },
  {
   "cell_type": "markdown",
   "metadata": {
    "heading_collapsed": true,
    "hidden": true
   },
   "source": [
    "## check results"
   ]
  },
  {
   "cell_type": "code",
   "execution_count": 506,
   "metadata": {
    "collapsed": true,
    "hidden": true,
    "run_control": {
     "frozen": false,
     "read_only": false
    }
   },
   "outputs": [],
   "source": [
    "main_characters =  {\"fred\",\n",
    "             \"barney\",\n",
    "              \"wilma\",\n",
    "              \"betty\",\n",
    "              \"pebbles\",\n",
    "              \"bamm bamm\",\n",
    "              \"dino\",\n",
    "              \"mr slate\",\n",
    "              \"baby puss\",\n",
    "              \"hoppy\",\n",
    "              \"empty frame\",\n",
    "              \"no characters\"}\n",
    "\n",
    "def create_result(assmt):\n",
    "    result = json.loads(assmt.answers[0][0].fields[0])\n",
    "    result['h_id'] = assmt.HITId\n",
    "    result['worker_id'] = assmt.WorkerId\n",
    "    return result\n",
    "\n",
    "\n",
    "def all_main(char_set, main_chars=main_characters):\n",
    "    return not bool(char_set.difference(main_chars))"
   ]
  },
  {
   "cell_type": "code",
   "execution_count": 513,
   "metadata": {
    "collapsed": true,
    "hidden": true,
    "run_control": {
     "frozen": false,
     "read_only": false
    }
   },
   "outputs": [],
   "source": [
    "assignments =[]\n",
    "for assignment_triple in list(results.values()):\n",
    "    assignments.extend(assignment_triple)\n",
    "\n",
    "assignment_results = [create_result(ar) for ar in assignments]\n",
    "characters_present = [{'h_id': anno['h_id'], 'w_id': anno['worker_id'], 'still_id': anno['stillID'], 'characters': set([ch['label'] for ch in json.loads(anno['characterBoxes'])])} for anno in assignment_results]"
   ]
  }
 ],
 "metadata": {
  "kernelspec": {
   "display_name": "Python 3",
   "language": "python",
   "name": "python3"
  },
  "language_info": {
   "codemirror_mode": {
    "name": "ipython",
    "version": 3
   },
   "file_extension": ".py",
   "mimetype": "text/x-python",
   "name": "python",
   "nbconvert_exporter": "python",
   "pygments_lexer": "ipython3",
   "version": "3.6.4"
  }
 },
 "nbformat": 4,
 "nbformat_minor": 1
}
